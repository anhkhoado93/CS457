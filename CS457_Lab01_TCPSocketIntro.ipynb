{
 "cells": [
  {
   "cell_type": "markdown",
   "metadata": {},
   "source": [
    "<h1><center>CS457 Lab 1 <br />Introduction to TCP Sockets</center></h1>\n",
    "\n",
    "### Introduction\n",
    "\n",
    "This first CS457 lab is a \"gentle\" introduction to network socket programming.  For the time being we will avoid handling errors and other situations such as dealing with network byte order or asynchronous multi-connection threads.  We'll get to those issues in the next lab.\n",
    "Right now we just want study some simple examples to give you basic information on how sockets work. \n",
    "\n",
    "#### Lab 1 Overview\n",
    "\n",
    "In this lab you will simply execute  python code to study examples of simple socket programs; no new code needs to be written by you. Executing a cell in jupyter requires you to be in the cell and pushing SHIFT RETURN. \n",
    "\n",
    "In this lab you will learn how to use TCP sockets to\n",
    "\n",
    "1. Connect to a well known web site, google.com, and read the contents of a web page.  \n",
    "2. Run a simple \"hello world\" server.\n",
    "3. Run very simple \"echo server\" and \"echo client\" programs to illustrate the differences in structure between a TCP server and a TCP client.\n",
    "\n",
    "#### Acknowledgements and Citations\n",
    "\n",
    "This lab has original material as well as material sourced and modified from various sites such as Nathan Jenning's [Socket Programming in Python](https://realpython.com/python-sockets/), the [GeeksForGeeks Socket programming guide](https://www.geeksforgeeks.org/socket-programming-python/), and lab exercises from the Kurose and Ross Networking textbook."
   ]
  },
  {
   "cell_type": "markdown",
   "metadata": {},
   "source": [
    "----\n",
    "\n",
    "### Part 1:  Introduction to Sockets and Ports\n",
    "\n",
    "Socket programming is a way of connecting two nodes on a network to communicate with each other. In streaming mode (TCP), one socket(node) listens on a particular port, while another socket reaches out to the other to form a connection.  Data can then be exchanged in a client/server relationship.\n",
    "\n",
    "Ports are a method for the operating system to connect the socket to the appropriate application.  \n",
    "\n",
    "<img src=\"http://www.cs.colostate.edu/~cs457/images/jupyter/socket_port.png\" alt=\"socket diagram\" />\n",
    "\n",
    "Ports are simply numbers from 0 to 65535.  The first 1023 ports are reserved for specific applications, and are called \"well known ports\". As illustrated below, Port 80, for example, is used for web servers.  Port 53 is used for DNS.  Here is a list of [well known ports](https://en.wikipedia.org/wiki/List_of_TCP_and_UDP_port_numbers). The ports numbered from 1024 and above are called *\"ephemeral ports\"* and can be used by any application.\n",
    "\n",
    "<img src=\"http://www.cs.colostate.edu/~cs457/images/jupyter/multipleSockets.jpg\" width=\"350px\" alt=\"multiple sockets\" />"
   ]
  },
  {
   "cell_type": "markdown",
   "metadata": {},
   "source": [
    "#### 1A) Socket Creation and Initialization\n",
    "\n",
    "Socket programming in python is started by importing the socket library and making a simple socket. Execute the following cell (SHIFT-RETURN):"
   ]
  },
  {
   "cell_type": "code",
   "execution_count": 1,
   "metadata": {},
   "outputs": [
    {
     "name": "stdout",
     "output_type": "stream",
     "text": [
      "<socket.socket fd=404, family=AddressFamily.AF_INET, type=SocketKind.SOCK_STREAM, proto=0>\n"
     ]
    }
   ],
   "source": [
    "import socket\n",
    "s = socket.socket(socket.AF_INET, socket.SOCK_STREAM)\n",
    "print (s)"
   ]
  },
  {
   "cell_type": "markdown",
   "metadata": {},
   "source": [
    "Here we made a socket instance and passed it two parameters. The first parameter is `AF_INET` and the second one is `SOCK_STREAM`.  `AF_INET` refers to the IPv4 address family (later we will use IPv6). The `SOCK_STREAM` parameter means to use a socket with *connection-oriented* TCP protocol. In a future lab we will use the SOCK_DATAGRAM parameter to do UDP messaging.  \n",
    "\n",
    "Notice that when we printed the socket object, it indicated an `fd` (*file descriptor*).  Each socket is assigned a unique `fd`. There are many similarities between an `fd` for real files and an `fd` for sockets.  Both have common operations such as `open, read, write`, and `close`.  Of course, there are also fundamental differences between files and sockets -- for example, files don't have `listen` and sockets don't have `seek`.  We'll get to the socket API calls in the next section. \n",
    "\n",
    "In any event, we can now connect to a server using this socket.  But note that if any error occurs during the creation of a socket then a socket.error is thrown.  Furthermore, we can only connect to a server by knowing it’s IP address or by specifying it's fully qualified domain name.  In this lab we will use IPv4 addresses only."
   ]
  },
  {
   "cell_type": "markdown",
   "metadata": {},
   "source": [
    "   #### 1B) Finding the IP address of a server: \n",
    "\n",
    "You can find the IP address of a server by using the unix `ping` command.  The `ping` command sends packets of data to a specific IP address on a network, and then lets you know how long it took to transmit that data and get a response. It’s a handy tool that you can use to quickly test various points of your network.  In the example below we send 3 pings to www.google.com  (the \"!\" symbol causes jupyter to execute a unix shell command).  Execute the ping command and examine the output."
   ]
  },
  {
   "cell_type": "code",
   "execution_count": 2,
   "metadata": {},
   "outputs": [
    {
     "name": "stdout",
     "output_type": "stream",
     "text": [
      "Access denied. Option -c requires administrative privileges.\n"
     ]
    }
   ],
   "source": [
    "! ping www.google.com -c 3"
   ]
  },
  {
   "cell_type": "markdown",
   "metadata": {},
   "source": [
    "You can also find the IP address using the python socket's `gethostbyname` method:"
   ]
  },
  {
   "cell_type": "code",
   "execution_count": 3,
   "metadata": {},
   "outputs": [
    {
     "name": "stdout",
     "output_type": "stream",
     "text": [
      "172.217.11.228\n"
     ]
    }
   ],
   "source": [
    "import socket \n",
    "ip = socket.gethostbyname('www.google.com')\n",
    "print (ip)"
   ]
  },
  {
   "cell_type": "markdown",
   "metadata": {},
   "source": [
    "#### 1C) Connecting to a server:  An example script to connect to google\n",
    "\n",
    "The code block below executes the following flow:\n",
    "\n",
    "- First of all we make a socket.\n",
    "\n",
    "- Then we resolve google’s IP address and then we connect to google using port 80, the reserved port number used by web servers that use the HTTP protocol.\n",
    "\n",
    "- Once connected we use the **`send`** API call send a request to the server.  The message we send is an `HTTP GET` request for a web page.  Don't worry about the format of the `GET` request for now.\n",
    "\n",
    "- Finally we implement a block of code to receive the first block of data from the server, followed by a loop to receive the rest of the data from the server.  Why a loop?  Because the data being returned may be bigger than fits into one packet.  TCP is a STREAMING connection; we may get a lot of data back in multiple packets.  These packets are buffered inside the operating systems network stack.   We use the socket **`recv`** API to read the data and to tell the socket to give the python application no more than 10,000 bytes at each invocation.  We check the length of the data returned.  Once it hits 0, we are done. \n",
    "\n",
    "- Finally, we close the connection.\n",
    "\n",
    "See!  Easy-peasy!  But as useful as sockets are, you should be aware that there are more advanced python libraries for fetching and parsing web pages.  These include ['urllib'](https://docs.python.org/3/library/urllib.html), ['httplib'](https://docs.python.org/3/library/http.client.html) and the very useful['requests'](https://realpython.com/python-requests/) library, among others.  The Python Library called [BeautifulSoup](https://www.crummy.com/software/BeautifulSoup/bs4/doc/) is an awesome set of tools to parse HTTP and XML files.  We will get to these in future labs.  For now we are learning about basic socket operations.\n",
    "\n",
    "Execute the code block and examine the output.  You should see multiple blocks of data returned, each separated by a blank line.  \n"
   ]
  },
  {
   "cell_type": "code",
   "execution_count": 1,
   "metadata": {},
   "outputs": [
    {
     "name": "stdout",
     "output_type": "stream",
     "text": [
      "Socket successfully created\n",
      "the socket has successfully connected to www.google.com on address 172.217.2.4 , port 80\n",
      "\n",
      " b'HTTP/1.1 200 OK\\r\\nDate: Thu, 29 Aug 2019 19:14:42 GMT\\r\\nExpires: -1\\r\\nCache-Control: private, max-age=0\\r\\nContent-Type: text/html; charset=ISO-8859-1\\r\\nP3P: CP=\"This is not a P3P policy! See g.co/p3phelp for more info.\"\\r\\nServer: gws\\r\\nX-XSS-Protection: 0\\r\\nX-Frame-Options: SAMEORIGIN\\r\\nSet-Cookie: 1P_JAR=2019-08-29-19; expires=Sat, 28-Sep-2019 19:14:42 GMT; path=/; domain=.google.com; SameSite=none\\r\\nSet-Cookie: NID=188=aRZIrBW_gGtHxxmgXar4JFGjo815l0lWZlpUxwBpwdpkWU-12hWi9NlvWTwxyiU3i6TCHrbNDeeGdhb1O-JHRTn7d6NecuZICEuvaPd91gObDJVCnQNIlpy_rwnVOUTU6gH9SiqcuoaPFh46Vgs7IE-Zdy5VNxkmWkxXrYfmj3s; expires=Fri, 28-Feb-2020 19:14:42 GMT; path=/; domain=.google.com; HttpOnly\\r\\nAccept-Ranges: none\\r\\nVary: Accept-Encoding\\r\\nTransfer-Encoding: chunked\\r\\n\\r\\n5fda\\r\\n<!doctype html><html itemscope=\"\" itemtype=\"http://schema.org/WebPage\" lang=\"en\"><head><meta content=\"Search the world\\'s information, including webpages, images, videos and more. Google has many special features to help you find exactly what you\\'re looking for.\" name=\"description\"><meta content=\"noodp\" name=\"robots\"><meta content=\"text/html; charset=UTF-8\" http-equiv=\"Content-Type\"><meta content=\"/images/branding/googleg/1x/googleg_standard_color_128dp.png\" itemprop=\"image\"><title>Google</title><script nonce=\"DeyMoqrtrjJ6sIyt2LbQDQ==\">(function(){window.google={kEI:\\'IiRoXYDvJ82v-gSO2beIBA\\',kEXPI:\\'0,1353747,2014,2423,1225,590,140,224,510,1065,2082,1070,57,321,206,1017,54,1430,577,2,124,10,713,40,275,23,260,1132349,1197790,329477,1294,12383,4855,32691,15248,867,12163,5281,1100,3335,2,2,6801,369,3314,5505,224,2218,5367,575,1119,2,579,727,2431,59,2,1,3,1297,4323,3700,1267,774,2255,1402,3331,6,1146,9,1743,6416,669,1050,1808,1238,240,7,1,2,488,2044,5766,1,3142,5191,106,897,1119,38,920,873,1217,1364,1611,2736,1558,1503,2,631,3240,1812,5634,620,2884,20,318,235,883,904,101,83,966,975,1,368,2778,520,399,992,509,776,8,109,461,3193,48,553,11,14,1279,2212,202,39,284,5,1245,7,83,757,324,193,1466,56,820,2620,335,483,260,52,1135,1,3,1509,540,620,1839,186,593,82,284,959,377,361,141,184,1261,449,298,61,158,26,72,112,44,207,1,1,790,103,328,1284,16,85,335,81,1759,667,41,787,811,607,91,10,145,183,45,1339,729,501,557,477,1124,1493,133,501,20,252,39,221,1010,2,17,259,40,484,7,503,227,590,523,72,775,204,1006,594,280,455,433,206,219,19,320,1305,245,310,117,335,45,2,574,1247,77,1069,1067,281,311,1,18,51,264,393,8,112,2,289,405,269,34,51,3,1382,33,2,564,216,18,291,229,43,5,1,5898751,3028,8797312,194,1382,549,333,444,1,2,80,1,900,583,9,304,1,8,1,2,2132,1,1,1,1,1,414,1,748,141,59,726,3,7,563,1,3118,411,30,2,86,1,1,2,17,4,27,4,18906394,3397041\\',authuser:0,kscs:\\'c9c918f0_IiRoXYDvJ82v-gSO2beIBA\\',kGL:\\'US\\',kBL:\\'uT6_\\'};google.sn=\\'webhp\\';google.kHL=\\'en\\';google.jsfs=\\'Ffpdje\\';})();(function(){google.lc=[];google.li=0;google.getEI=function(a){for(var b;a&&(!a.getAttribute||!(b=a.getAttribute(\"eid\"'\n",
      "\n",
      " b')));)a=a.parentNode;return b||google.kEI};google.getLEI=function(a){for(var b=null;a&&(!a.getAttribute||!(b=a.getAttribute(\"leid\")));)a=a.parentNode;return b};google.https=function(){return\"https:\"==window.location.protocol};google.ml=function(){return null};google.time=function(){return(new Date).getTime()};google.log=function(a,b,e,c,g){if(a=google.logUrl(a,b,e,c,g)){b=new Image;var d=google.lc,f=google.li;d[f]=b;b.onerror=b.onload=b.onabort=function(){delete d[f]};google.vel&&google.vel.lu&&google.vel.lu(a);b.src=a;google.li=f+1}};google.logUrl=function(a,b,e,c,g){var d=\"\",f=google.ls||\"\";e||-1!=b.search(\"&ei=\")||(d=\"&ei=\"+google.getEI(c),-1==b.search(\"&lei=\")&&(c=google.getLEI(c))&&(d+=\"&lei=\"+c));c=\"\";!e&&google.cshid&&-1==b.search(\"&cshid=\")&&\"slh\"!=a&&(c=\"&cshid=\"+google.cshid);a=e||\"/\"+(g||\"gen_204\")+\"?atyp=i&ct=\"+a+\"&cad=\"+b+d+f+\"&zx=\"+google.time()+c;/^http:/i.test(a)&&google.https()&&(google.ml(Error(\"a\"),!1,{src:a,glmm:1}),a=\"\");return a};}).call(this);(function(){google.y={};google.x=function(a,b){if(a)var c=a.id;else{do c=Math.random();while(google.y[c])}google.y[c]=[a,b];return!1};google.lm=[];google.plm=function(a){google.lm.push.apply(google.lm,a)};google.lq=[];google.load=function(a,b,c){google.lq.push([[a],b,c])};google.loadAll=function(a,b){google.lq.push([a,b])};}).call(this);google.f={};var a=window.location,b=a.href.indexOf(\"#\");if(0<=b){var c=a.href.substring(b+1);/(^|&)q=/.test(c)&&-1==c.indexOf(\"#\")&&a.replace(\"/search?\"+c.replace(/(^|&)fp=[^&]*/g,\"\")+\"&cad=h\")};</script><style>#gb{font:13px/27px Arial,sans-serif;height:30px}#gbz,#gbg{position:absolute;white-space:nowrap;top:0;height:30px;z-index:1000}#gbz{left:0;padding-left:4px}#gbg{right:0;padding-right:5px}#gbs{background:transparent;position:absolute;top:-999px;visibility:hidden;z-index:998;right:0}.gbto #gbs{background:#fff}#gbx3,#gbx4{background-color:#2d2d2d;background-image:none;_background-image:none;background-position:0 -138px;background-repeat:repeat-x;border-bottom:1px solid #000;font-size:24px;height:29px;_height:30px;opacity:1;filter:alpha(opacity=100);position:absolute;top:0;width:100%;z-index:990}#gbx3{left:0}#gbx4{right:0}#gbb{position:relative}#gbbw{left:0;position:absolute;top:30px;width:100%}.gbtcb{position:absolute;visibility:hidden}#gbz .gbtcb{right:0}#gbg .gbtcb{left:0}.gbxx{display:none !important}.gbxo{opacity:0 !important;filter:alpha(opacity=0) !important}.gbm{position:absolute;z-index:999;top:-999px;visibility:hidden;text-align:left;border:1px solid #bebebe;background:#fff;-moz-box-shadow:-1px 1px 1px rgba(0,0,0,.2);-webkit-box-shadow:0 2px 4px rgba(0,0,0,.2);box-shadow:0 2px 4px rgba(0,0,0,.2)}.gbrtl .gbm{-moz-box-shadow:1px 1px 1px rgba(0,0,0,.2)}.gbto .gbm,.gbto #gbs{top:29px;visibility:visible}#gbz .gbm{left:0}#gbg .gbm{right:0}.gbxms{background-color:#ccc;display:block;position:absolute;z-index:1;top:-1px;left:-2px;right:-2px;bottom:-2px;opacity:.4;-moz-border-radius:3px;filter:progid:DXImageTransform.Microsoft.Blur(pixelradius=5);*opacity:1;*top:-2px;*left:-5px;*right:5px;*bottom:4px;-ms-filter:\"progid:DXImageTransform.Microsoft.Blur(pixelradius=5)\";opacity:1\\\\0/;top:-4px\\\\0/;left:-6px\\\\0/;right:5px\\\\0/;bottom:4px\\\\0/}.gbma{position:relative;top:-1px;border-style:solid dashed dashed;border-color:transparent;border-top-color:#c0c0c0;display:-moz-inline-box;display:inline-block;font-size:0;height:0;line-height:0;width:0;border-width:3px 3px 0;padding-top:1px;left:4px}#gbztms1,#gbi4m1,#gbi4s,#gbi4t{zoom:1}.gbtc,.gbmc,.gbmcc{display:block;list-style:none;margin:0;padding:0}.gbmc{background:#fff;padding:10px 0;position:relative;z-index:2;zoom:1}.gbt{position:relative;display:-moz-inline-box;display:inline-block;line-height:27px;padding:0;vertical-align:top}.gbt{*display:inline}.gbto{box-shadow:0 2px 4px rgba(0,0,0,.2);-moz-box-shadow:0 2px 4px rgba(0,0,0,.2);-webkit-box-shadow:0 2px 4px rgba(0,0,0,.2)}.gbzt,.gbgt{cursor:pointer;display:block;text-decoration:none !important}span#gbg6,span#gbg4{cursor:default}.gbts{border-left:1px solid transparent;border-right:1px solid transparent;display:block;*display:inline-block;padding:0 5px;position:relative;z-index:1000}.gbts{*display:inline}.gbzt .gbts{display:inline;zoom:1}.gbto .gbts{background:#fff;border-color:#bebebe;color:#36c;padding-bottom:1px;padding-top:2px}.gbz0l .gbts{color:#fff;font-weight:bold}.gbtsa{padding-right:9px}#gbz .gbzt,#gbz .gbgt,#gbg .gbgt{color:#ccc!important}.gbtb2{display:block;border-top:2px solid transparent}.gbto .gbzt .gbtb2,.gbto .gbgt .gbtb2{border-top-width:0}.gbtb .gbts{background:url(https://ssl.gstatic.com/gb/images/b_8d5afc09.png);_background:url(https://ssl.gstatic.com/gb/images/b8_3615d64d.png);background-position:-27px -22px;border:0;font-size:0;padding:29px 0 0;*padding:27px 0 0;width:1px}.gbzt:hover,.gbzt:focus,.gbgt-hvr,.gbgt:focus{background-color:#4c4c4c;background-image:none;_background-image:none;background-position:0 -102px;background-repeat:repeat-x;outline:none;text-decoration:none !important}.gbpdjs .gbto .gbm{min-width:99%}.gbz0l .gbtb2{border-top-color:#dd4b39!important}#gbi4s,#gbi4s1{font-weight:bold}#gbg6.gbgt-hvr,#gbg6.gbgt:focus{background-color:transparent;background-image:none}.gbg4a{font-size:0;line-height:0}.gbg4a .gbts{padding:27px 5px 0;*padding:25px 5px 0}.gbto .gbg4a .gbts{padding:29px 5px 1px;*padding:27px 5px 1px}#gbi4i,#gbi4id{left:5px;border:0;height:24px;position:absolute;top:1px;width:24px}.gbto #gbi4i,.gbto #gbi4id{top:3px}.gbi4p{display:block;width:24px}#gbi4id{background-position:-44px -101px}#gbmpid{background-position:0 0}#gbmpi,#gbmpid{border:none;display:inline-block;height:48px;width:48px}#gbmpiw{display:inline-block;line-height:9px;padding-left:20px;margin-top:10px;position:relative}#gbmpi,#gbmpid,#gbmpiw{*display:inline}#gbg5{font-size:0}#gbgs5{padding:5px !important}.gbto #gbgs5{padding:7px 5px 6px !important}#gbi5{background:url(https://ssl.gstatic.com/gb/images/b_8d5afc09.png);_background:url(https://ssl.gstatic.com/gb/images/b8_3615d64d.png);background-position:0 0;display:block;font-size:0;height:17px;width:16px}.gbto #gbi5{background-position:-6px -22px}.gbn .gbmt,.gbn .gbmt:visited,.gbnd .gbmt,.gbnd .gbmt:visited{color:#dd8e27 !important}.gbf .gbmt,.gbf .gbmt:visited{color:#900 !important}.gbmt,.gbml1,.gbmlb,.gbmt:visited,.gbml1:visited,.gbmlb:visited{color:#36c !important;text-decoration:none !important}.gbmt,.gbmt:visited{display:block}.gbml1,.gbmlb,.gbml1:visited,.gbmlb:visited{display:inline-block;margin:0 10px}.gbml1,.gbmlb,.gbml1:visited,.gbmlb:visited{*display:inline}.gbml1,.gbml1:visited{padding:0 10px}.gbml1-hvr,.gbml1:focus{outline:none;text-decoration:underline !important}#gbpm .gbml1{display:inline;margin:0;padding:0;white-space:nowrap}.gbmlb,.gbmlb:visited{line-height:27px}.gbmlb-hvr,.gbmlb:focus{outline:none;text-decoration:underline !important}.gbmlbw{color:#ccc;margin:0 10px}.gbmt{padding:0 20px}.gbmt:hover,.gbmt:focus{background:#eee;cursor:pointer;outline:0 solid black;text-decoration:none !important}.gbm0l,.gbm0l:visited{color:#000 !important;font-weight:bold}.gbmh{border-top:1px solid #bebebe;font-size:0;margin:10px 0}#gbd4 .gbmc{background:#f5f5f5;padding-top:0}#gbd4 .gbsbic::-webkit'\n",
      "\n",
      " b\"-scrollbar-track:vertical{background-color:#f5f5f5;margin-top:2px}#gbmpdv{background:#fff;border-bottom:1px solid #bebebe;-moz-box-shadow:0 2px 4px rgba(0,0,0,.12);-o-box-shadow:0 2px 4px rgba(0,0,0,.12);-webkit-box-shadow:0 2px 4px rgba(0,0,0,.12);box-shadow:0 2px 4px rgba(0,0,0,.12);position:relative;z-index:1}#gbd4 .gbmh{margin:0}.gbmtc{padding:0;margin:0;line-height:27px}.GBMCC:last-child:after,#GBMPAL:last-child:after{content:'\\\\0A\\\\0A';white-space:pre;position:absolute}#gbmps{*zoom:1}#gbd4 .gbpc,#gbmpas .gbmt{line-height:17px}#gbd4 .gbpgs .gbmtc{line-height:27px}#gbd4 .gbmtc{border-bottom:1px solid #bebebe}#gbd4 .gbpc{display:inline-block;margin:16px 0 10px;padding-right:50px;vertical-align:top}#gbd4 .gbpc{*display:inline}.gbpc .gbps,.gbpc .gbps2{display:block;margin:0 20px}#gbmplp.gbps{margin:0 10px}.gbpc .gbps{color:#000;font-weight:bold}.gbpc .gbpd{margin-bottom:5px}.gbpd .gbmt,.gbpd .gbps{color:#666 !important}.gbpd .gbmt{opacity:.4;filter:alpha(opacity=40)}.gbps2{color:#666;display:block}.gbp0{display:none}.gbp0 .gbps2{font-weight:bold}#gbd4 .gbmcc{margin-top:5px}.gbpmc{background:#fef9db}.gbpmc .gbpmtc{padding:10px 20px}#gbpm{border:0;*border-collapse:collapse;border-spacing:0;margin:0;white-space:normal}#gbpm .gbpmtc{border-top:none;color:#000 !important;font:11px Arial,sans-serif}#gbpms{*white-space:nowrap}.gbpms2{font-weight:bold;white-space:nowrap}#gbmpal{*border-collapse:collapse;border-spacing:0;border:0;margin:0;white-space:nowrap;width:100%}.gbmpala,.gbmpalb{font:13px Arial,sans-serif;line-height:27px;padding:10px 20px 0;white-space:nowrap}.gbmpala{padding-left:0;text-align:left}.gbmpalb{padding-right:0;text-align:right}#gbmpasb .gbps{color:#000}#gbmpal .gbqfbb{margin:0 20px}.gbp0 .gbps{*display:inline}a.gbiba{margin:8px 20px 10px}.gbmpiaw{display:inline-block;padding-right:10px;margin-bottom:6px;margin-top:10px}.gbxv{visibility:hidden}.gbmpiaa{display:block;margin-top:10px}.gbmpia{border:none;display:block;height:48px;width:48px}.gbmpnw{display:inline-block;height:auto;margin:10px 0;vertical-align:top}\\n.gbqfb,.gbqfba,.gbqfbb{-moz-border-radius:2px;-webkit-border-radius:2px;border-radius:2px;cursor:default !important;display:inline-block;font-weight:bold;height:29px;line-height:29px;min-width:54px;*min-width:70px;padding:0 8px;text-align:center;text-decoration:none !important;-moz-user-select:none;-webkit-user-select:none}.gbqfb:focus,.gbqfba:focus,.gbqfbb:focus{border:1px solid #4d90fe;-moz-box-shadow:inset 0 0 0 1px rgba(255, 255, 255, 0.5);-webkit-box-shadow:inset 0 0 0 1px rgba(255, 255, 255, 0.5);box-shadow:inset 0 0 0 1px rgba(255, 255, 255, 0.5);outline:none}.gbqfb-hvr:focus,.gbqfba-hvr:focus,.gbqfbb-hvr:focus{-webkit-box-shadow:inset 0 0 0 1px #fff,0 1px 1px rgba(0,0,0,.1);-moz-box-shadow:inset 0 0 0 1px #fff,0 1px 1px rgba(0,0,0,.1);box-shadow:inset 0 0 0 1px #fff,0 1px 1px rgba(0,0,0,.1)}.gbqfb-no-focus:focus{border:1px solid #3079ed;-moz-box-shadow:none;-webkit-box-shadow:none;box-shadow:none}.gbqfb-hvr,.gbqfba-hvr,.gbqfbb-hvr{-webkit-box-shadow:0 1px 1px rgba(0,0,0,.1);-moz-box-shadow:0 1px 1px rgba(0,0,0,.1);box-shadow:0 1px 1px rgba(0,0,0,.1)}.gbqfb::-moz-focus-inner,.gbqfba::-moz-focus-inner,.gbqfbb::-moz-focus-inner{border:0}.gbqfba,.gbqfbb{border:1px solid #dcdcdc;border-color:rgba(0,0,0,.1);color:#444 !important;font-size:11px}.gbqfb{background-color:#4d90fe;background-image:-webkit-gradient(linear,left top,left bottom,from(#4d90fe),to(#4787ed));background-image:-webkit-linear-gradient(top,#4d90fe,#4787ed);background-image:-moz-linear-gradient(top,#4d90fe,#4787ed);background-image:-ms-linear-gradient(top,#4d90fe,#4787ed);background-image:-o-linear-gradient(top,#4d90fe,#4787ed);background-image:linear-gradient(top,#4d90fe,#4787ed);filter:progid:DXImageTransform.Microsoft.gradient(startColorStr='#4d90fe',EndColorStr='#4787ed');border:1px solid #3079ed;color:#fff!important;margin:0 0}.gbqfb-hvr{border-color:#2f5bb7}.gbqfb-hvr:focus{border-color:#2f5bb7}.gbqfb-hvr,.gbqfb-hvr:focus{background-color:#357ae8;background-image:-webkit-gradient(linear,left top,left bottom,from(#4d90fe),to(#357ae8));background-image:-webkit-linear-gradient(top,#4d90fe,#357ae8);background-image:-moz-linear-gradient(top,#4d90fe,#357ae8);background-image:-ms-linear-gradient(top,#4d90fe,#357ae8);background-\"\n",
      "\n",
      " b\"image:-o-linear-gradient(top,#4d90fe,#357ae8);background-image:linear-gradient(top,#4d90fe,#357ae8)}.gbqfb:active{background-color:inherit;-webkit-box-shadow:inset 0 1px 2px rgba(0, 0, 0, 0.3);-moz-box-shadow:inset 0 1px 2px rgba(0, 0, 0, 0.3);box-shadow:inset 0 1px 2px rgba(0, 0, 0, 0.3)}.gbqfba{background-color:#f5f5f5;background-image:-webkit-gradient(linear,left top,left bottom,from(#f5f5f5),to(#f1f1f1));background-image:-webkit-linear-gradient(top,#f5f5f5,#f1f1f1);background-image:-moz-linear-gradient(top,#f5f5f5,#f1f1f1);background-image:-ms-linear-gradient(top,#f5f5f5,#f1f1f1);background-image:-o-linear-gradient(top,#f5f5f5,#f1f1f1);background-image:linear-gradient(top,#f5f5f5,#f1f1f1);filter:progid:DXImageTransform.Microsoft.gradient(startColorStr='#f5f5f5',EndColorStr='#f1f1f1')}.gbqfba-hvr,.gbqfba-hvr:active{background-color:#f8f8f8;background-image:-webkit-gradient(linear,left top,left bottom,from(#f8f8f8),to(#f1f1f1));background-image:-webkit-linear-gradient(top,#f8f8f8,#f1f1f1);background-image:-moz-linear-gradient(top,#f8f8f8,#f1f1f1);background-image:-ms-linear-gradient(top,#f8f8f8,#f1f1f1);background-image:-o-linear-gradient(top,#f8f8f8,#f1f1f1);background-image:linear-gradient(top,#f8f8f8,#f1f1f1);filter:progid:DXImageTransform.Microsoft.gradient(startColorStr='#f8f8f8',EndColorStr='#f1f1f1')}.gbqfbb{background-color:#fff;background-image:-webkit-gradient(linear,left top,left bottom,from(#f\"\n",
      "\n",
      " b\"ff),to(#fbfbfb));background-image:-webkit-linear-gradient(top,#fff,#fbfbfb);background-image:-moz-linear-gradient(top,#fff,#fbfbfb);background-image:-ms-linear-gradient(top,#fff,#fbfbfb);background-image:-o-linear-gradient(top,#fff,#fbfbfb);background-image:linear-gradient(top,#fff,#fbfbfb);filter:progid:DXImageTransform.Microsoft.gradient(startColorStr='#ffffff',EndColorStr='#fbfbfb')}.gbqfbb-hvr,.gbqfbb-hvr:active{background-color:#fff;background-image:-webkit-gradient(linear,left top,left bottom,from(#fff),to(#f8f8f8));background-image:-webkit-linear-gradient(top,#fff,#f8f8f8);background-image:-moz-linear-gradient(top,#fff,#f8f8f8);background-image:-ms-linear-gradient(top,#fff,#f8f8f8);background-image:-o-linear-gradient(top,#fff,#f8f8f8);background-image:linear-gradient(top,#fff,#f8f8f8);filter:progid:DXImageTransform.Microsoft.gradient(startColorStr='#ffffff',EndColorStr='#f8f8f8')}.gbqfba-hvr,.gbqfba-hvr:active,.gbqfbb-hvr,.gbqfbb-hvr:active{border-color:#c6c6c6;-webkit-box-shadow:0 1px 1px rgba(0,0,0,.1);-moz-box-shadow:0 1px 1px rgba(0,0,0,.1);box-shadow:0 1px 1px rgba(0,0,0,.1);color:#222 !important}.gbqfba:active,.gbqfbb:active{-webkit-box-shadow:inset 0 1px 2px rgba(0,0,0,.1);-moz-box-shadow:inset 0 1px 2px rgba(0,0,0,.1);box-shadow:inset 0 1px 2px rgba(0,0,0,.1)}\\n#gbmpas{max-height:220px}#gbmm{max-height:530px}.gbsb{-webkit-box-sizing:border-box;display:block;position:relative;*zoom:1}.gbsbic{ov\"\n",
      "\n",
      " b'erflow:auto}.gbsbis .gbsbt,.gbsbis .gbsbb{-webkit-mask-box-image:-webkit-gradient(linear,left top,right top,color-stop(0,rgba(0,0,0,.1)),color-stop(.5,rgba(0,0,0,.8)),color-stop(1,rgba(0,0,0,.1)));left:0;margin-right:0;opacity:0;position:absolute;width:100%}.gbsb .gbsbt:after,.gbsb .gbsbb:after{content:\"\";display:block;height:0;left:0;position:absolute;width:100%}.gbsbis .gbsbt{background:-webkit-gradient(linear,left top,left bottom,from(rgba(0,0,0,.2)),to(rgba(0,0,0,0)));background-image:-webkit-linear-gradient(top,rgba(0,0,0,.2),rgba(0,0,0,0));background-image:-moz-linear-gradient(top,rgba(0,0,0,.2),rgba(0,0,0,0));background-image:-ms-linear-gradient(top,rgba(0,0,0,.2),rgba(0,0,0,0));background-image:-o-linear-gradient(top,rgba(0,0,0,.2),rgba(0,0,0,0));background-image:linear-gradient(top,rgba(0,0,0,.2),rgba(0,0,0,0));height:6px;top:0}.gbsb .gbsbt:after{border-top:1px solid #ebebeb;border-color:rgba(0,0,0,.3);top:0}.gbsb .gbsbb{-webkit-mask-box-image:-webkit-gradient(linear,left top,right top,color-stop(0,rgba(0,0,0,.1)),color-stop(.5,rgba(0,0,0,.8)),color-stop(1,rgba(0,0,0,.1)));background:-webkit-gradient(linear,left bottom,left top,from(rgba(0,0,0,.2)),to(rgba(0,0,0,0)));background-image:-webkit-linear-gradient(bottom,rgba(0,0,0,.2),rgba(0,0,0,0));background-image:-moz-linear-gradient(bottom,rgba(0,0,0,.2),rgba(0,0,0,0));background-image:-ms-linear-gradient(bottom,rgba(0,0,0,.2),rgba(0,0,0,0));background-image:-o-linear-gradient(bottom,rgba(0,0,0,.2),rgba(0,0,0,0));background-image:linear-gradient(bottom,rgba(0,0,0,.2),rgba(0,0,0,0));bottom:0;height:4px}.gbsb .gbsbb:after{border-bottom:1px solid #ebebeb;border-color:rgba(0,0,0,.3);bottom:0}\\n</style><style>body,td,a,p,.h{font-family:arial,sans-serif}body{margin:0;overflow-y:scroll}#gog{padding:3px 8px 0}td{line-height:.8em}.gac_m td{line-height:17px}form{margin-bottom:20px}.h{color:#36c}.q{color:#00c}.ts td{padding:0}.ts{border-collapse:collapse}em{font-weight:bold;font-style:normal}.lst{height:25px;width:496px}.gsfi,.lst{font:18px arial,sans-serif}.gsfs{font:17px arial,sans-serif}.ds{display:inline-box;display:inline-block;margin:3px 0 4px;margin-left:4px}input{font-family:inherit}a.gb1,a.gb2,a.gb3,a.gb4{color:#11c !important}body{background:#fff;color:black}a{color:#11c;text-decoration:none}a:hover,a:active{text-decoration:underline}.fl a{color:#36c}a:visited{color:#551a8b}a.gb1,a.gb4{text-decoration:underline}a.gb3:hover{text-decoration:none}#ghead a.gb2:hover{color:#fff !important}.sblc{padding-top:5px}.sblc a{display:block;margin:2px 0;margin-left:13px;font-size:11px}.lsbb{background:#eee;border:solid 1px;border-color:#ccc #999 #999 #ccc;height:30px}.lsbb{display:block}.ftl,#fll a{display:inline-block;margin:0 12px}.lsb{background:url(/images/nav_logo229.png) 0 -261px repeat-x;border:none;color:#000;cursor:pointer;height:30px;margin:0;outline:0;font:15px arial,sans-serif;vertical-align:top}.lsb:active{background:#ccc}.lst:focus{outline:none}</style><script nonce=\"DeyMoqrtrjJ6sIyt2LbQDQ==\">(function(){try{var e=this||self;var aa=function(a,b,c,d){d=d||{};d._sn=[\"cfg\",b,c].join(\".\");window.gbar.logger.ml(a,d)};var g=window.gbar=window.gbar||{},h=window.gbar.i=window.gbar.i||{},ba;function _tvn(a,b){a=parseInt(a,10);return isNaN(a)?b:a}function _tvf(a,b){a=parseFloat(a);return isNaN(a)?b:a}function _tvv(a){return!!a}function p(a,b,c){(c||g)[a]=b}g.bv={n:_tvn(\"2\",0),r:\"\",f:\".66.41.\",e:\"1300102,3700338\",m:_tvn(\"1\",1)};\\nfunction ca(a,b,c){var d=\"on\"+b;if(a.addEventListener)a.addEventListener(b,c,!1);else if(a.attachEvent)a.attachEvent(d,c);else{var f=a[d];a[d]=function(){var k=f.apply(this,arguments),m=c.apply(this,arguments);return void 0==k?m:void 0==m?k:m&&k}}}var da=function(a){return function(){return g.bv.m==a}},ea=da(1),fa=da(2);p(\"sb\",ea);p(\"kn\",fa);h.a=_tvv;h.b=_tvf;h.c=_tvn;h.i=aa;var r=window.gbar.i.i;var t=function(){},ha=function(){},ka=function(a){var b=new Image,c=ia;b.onerror=b.onload=b.onabort=function(){try{delete ja[c]}catch(d){}};ja[c]=b;b.src=a;ia=c+1},ja=[],ia=0;p(\"logger\",{il:ha,ml:t,log:ka});var u=window.gbar.logger;var v={},la={},w=[],ma=h.b(\"0.1\",.1),na=h.a(\"1\",!0),oa=function(a,b){w.push([a,b])},pa=function(a,b){v[a]=b},qa=function(a){return a in v},x={},A=function(a,b){x[a]||(x[a]=[]);x[a].push(b)},B=function(a){A(\"m\",a)},ra=function(a,b){var c=document.createElement(\"script\");c.src=a;c.async=na;Math.random()<ma&&(c.onerror=function(){c.onerror=null;t(Error(\"Bundle load failed: name=\"+(b||\"UNK\")+\" url=\"+a))});(document.getElementById(\"xjsc\")||document.getElementsByTagName(\"body\")[0]||\\ndocument.getElementsByTagName(\"head\")[0]).appendChild(c)},D=function(a){for(var b=0,c;(c=w[b])&&c[0]!=a;++b);!c||c[1].l||c[1].s||(c[1].s=!0,sa(2,a),c[1].url&&ra(c[1].url,a),c[1].libs&&C&&C(c[1].libs))},ta=function(a){A(\"gc\",a)},ua=null,va=function(a){ua=a},sa=function(a,b,c){if(ua){a={t:a,b:b};if(c)for(var d in c)a[d]=c[d];try{ua(a)}catch(f){}}};p(\"mdc\",v);p(\"mdi\",la);p(\"bnc\",w);p(\"qGC\",ta);p(\"qm\",B);p(\"qd\",x);p(\"lb\",D);p(\"mcf\",pa);p(\"bcf\",oa);p(\"aq\",A);p(\"mdd\",\"\");\\np(\"has\",qa);p(\"trh\",va);p(\"tev\",sa);if(h.a(\"m;/_/scs/abc-static/_/js/k=gapi.gapi.en.4CFxRrSvxq0.O/d=1/rs=AHpOoo8skdVJHB5uqGRXCunlhzuKwaF7Ag/m=__features__\")){var F=function(a,b){return wa?a||b:b},xa=h.a(\"1\"),ya=h.a(\"\"),za=h.a(\"\"),wa=h.a(\"\"),Aa=window.gapi=F(window.gapi,{}),Ba=function(a,b){var c=function(){g.dgl(a,b)};xa?B(c):(A(\"gl\",c),D(\"gl\"))},Ca={},Da=function(a){a=a.split(\":\");for(var b;(b=a.pop())&&Ca[b];);return!b},C=function(a){function b(){for(var c=a.split(\":\"),d=0,f;f=c[d];++d)Ca[f]=1;for(c=0;d=w[c];++c)d=d[1],(f=d.libs)&&!d.l&&d.i&&\\nDa(f)&&d.i()}g.dgl(a,b)},G=window.___jsl=F(window.___jsl,{});G.h=F(G.h,\"m;/_/scs/abc-static/_/js/k=gapi.gapi.en.4CFxRrSvxq0.O/d=1/rs=AHpOoo8skdVJHB5'\n",
      "\n",
      " b'uqGRXCunlhzuKwaF7Ag/m=__features__\");G.ms=F(G.ms,\"https://apis.google.com\");G.m=F(G.m,\"\");G.l=F(G.l,[]);G.dpo=F(G.dpo,\"\");xa||w.push([\"gl\",{url:\"//ssl.gstatic.com/gb/js/abc/glm_e7bb39a7e1a24581ff4f8d199678b1b9.js\"}]);var Ea={pu:ya,sh:\"\",si:za,hl:\"en\"};v.gl=Ea;wa?Aa.load||p(\"load\",Ba,Aa):p(\"load\",Ba,Aa);p(\"dgl\",Ba);p(\"agl\",Da);h.o=xa};var Fa=h.b(\"0.1\",.001),Ga=0;\\nfunction _mlToken(a,b){try{if(1>Ga){Ga++;var c=a;b=b||{};var d=encodeURIComponent,f=[\"//www.google.com/gen_204?atyp=i&zx=\",(new Date).getTime(),\"&jexpid=\",d(\"28834\"),\"&srcpg=\",d(\"prop=1\"),\"&jsr=\",Math.round(1/Fa),\"&ogev=\",d(\"IiRoXf3QKNOf-gTozZ3oAw\"),\"&ogf=\",g.bv.f,\"&ogrp=\",d(\"\"),\"&ogv=\",d(\"265367620.0\"),\"&oggv=\"+d(\"es_plusone_gc_20190803.0_p0\"),\"&ogd=\",d(\"com\"),\"&ogc=\",d(\"USA\"),\"&ogl=\",d(\"en\")];b._sn&&(b._sn=\\n\"og.\"+b._sn);for(var k in b)f.push(\"&\"),f.push(d(k)),f.push(\"=\"),f.push(d(b[k]));f.push(\"&emsg=\");f.push(d(c.name+\":\"+c.message));var m=f.join(\"\");Ha(m)&&(m=m.substr(0,2E3));var n=m;var l=window.gbar.logger._aem(a,n);ka(l)}}catch(q){}}var Ha=function(a){return 2E3<=a.length},Ia=function(a,b){return b};function Ja(a){t=a;p(\"_itl\",Ha,u);p(\"_aem\",Ia,u);p(\"ml\",t,u);a={};v.er=a}h.a(\"\")?Ja(function(a){throw a;}):h.a(\"1\")&&Math.random()<Fa&&Ja(_mlToken);var _E=\"left\",Ka=h.a(\"\"),J=function(a,b){var c=a.className;H(a,b)||(a.className+=(\"\"!=c?\" \":\"\")+b)},K=function(a,b){var c=a.className;b=new RegExp(\"\\\\\\\\s?\\\\\\\\b\"+b+\"\\\\\\\\b\");c&&c.match(b)&&(a.className=c.replace(b,\"\"))},H=function(a,b){b=new RegExp(\"\\\\\\\\b\"+b+\"\\\\\\\\b\");a=a.className;return!(!a||!a.match(b))},La=function(a,b){H(a,b)?K(a,b):J(a,b)},Ma=function(a,b){a[b]=function(c){var d=arguments;g.qm(function(){a[b].apply(this,d)})}},Na=function(){return\"1\"},\\nOa=function(a){a=[\"//www.gstatic.com\",\"/og/_/js/d=1/k=\",\"og.og2.en_US.8Lfl1Pd7Dxg.O\",\"/rt=j/m=\",a,\"/rs=\",\"AA2YrTsfZYnB3ch32qNOe_RpHyKI_KoR3Q\"];Ka&&a.push(\"?host=www.gstatic.com&bust=og.og2.en_US.GV0p4eKywTo.DU\");a=a.join(\"\");ra(a)};p(\"ca\",J);p(\"cr\",K);p(\"cc\",H);h.k=J;h.l=K;h.m=H;h.n=La;h.p=Oa;h.q=Ma;h.r=Na;var Pa=[\"gb_71\",\"gb_155\"],Qa;function Ra(a){Qa=a}function Sa(a){var b=Qa&&!a.href.match(/.*\\\\/accounts\\\\/ClearSID[?]/)&&encodeURIComponent(Qa());b&&(a.href=a.href.replace(/([?&]continue=)[^&]*/,\"$1\"+b))}function Ta(a){window.gApplication&&(a.href=window.gApplication.getTabUrl(a.href))}function Ua(a){try{var b=(document.forms[0].q||\"\").value;b&&(a.href=a.href.replace(/([?&])q=[^&]*|$/,function(c,d){return(d||\"&\")+\"q\\r\\nd2\\r\\n=\"+encodeURIComponent(b)}))}catch(c){r(c,\"sb\",\"pq\")}}\\nvar Va=function(){for(var a=[],b=0,c;c=Pa[b];++b)(c=document.getElementById(c))&&a.push(c);return a},Wa=function(){var a=Va();return 0<a.length?a[0]:null},X\\r\\n5418\\r\\na=function(){return document.getElementById(\"gb_70\")},L={},M={},Ya={},N={},O=void 0,cb=function(a,b){try{var c=document.getElementById(\"gb\");J(c,\"gbpdjs\");P();Za(document.getElementById(\"gb\"))&&J(c,\"gbrtl\");if(b&&b.getAttribute){var d=b.getAttribute(\"aria-owns\");if(d.length){var f=document.getElementById(d);if(f){var k=b.parentNode;if(O==d)O=void 0,\\nK(k,\"gbto\");else{if(O){var m=document.getElementById(O);if(m&&m.getAttribute){var n=m.getAttribute(\"aria-owner\");if(n.length){var l=document.getElementById(n);l&&l.parentNode&&K(l.parentNode,\"gbto\")}}}$a(f)&&ab(f);O=d;J(k,\"gbto\")}}}}B(function(){g.tg(a,b,!0)});bb(a)}catch(q){r(q,\"sb\",\"tg\")}},db=function(a){B(function(){g.close(a)})},eb=function(a){B(function(){g.rdd(a)})},Za=function(a){var b,c=document.defaultView;c&&c.getComputedStyle?(a=c.getComputedStyle(a,\"\"))&&(b=a.direction):b=a.currentStyle?\\na.currentStyle.direction:a.style.direction;return\"rtl\"==b},gb=function(a,b,c){if(a)try{var d=document.getElementById(\"gbd5\");if(d){var f=d.firstChild,k=f.firstChild,m=document.createElement(\"li\");m.className=b+\" gbmtc\";m.id=c;a.className=\"gbmt\";m.appendChild(a);if(k.hasChildNodes()){c=[[\"gbkc\"],[\"gbf\",\"gbe\",\"gbn\"],[\"gbkp\"],[\"gbnd\"]];d=0;var n=k.childNodes.length;f=!1;for(var l=-1,q=0,E;E=c[q];q++){for(var U=0,I;I=E[U];U++){for(;d<n&&H(k.childNodes[d],I);)d++;if(I==b){k.insertBefore(m,k.childNodes[d]||\\nnull);f=!0;break}}if(f){if(d+1<k.childNodes.length){var V=k.childNodes[d+1];H(V.firstChild,\"gbmh\")||fb(V,E)||(l=d+1)}else if(0<=d-1){var W=k.childNodes[d-1];H(W.firstChild,\"gbmh\")||fb(W,E)||(l=d)}break}0<d&&d+1<n&&d++}if(0<=l){var y=document.createElement(\"li\"),z=document.createElement(\"div\");y.className=\"gbmtc\";z.className=\"gbmt gbmh\";y.appendChild(z);k.insertBefore(y,k.childNodes[l])}g.addHover&&g.addHover(a)}else k.appendChild(m)}}catch(Eb){r(Eb,\"sb\",\"al\")}},fb=function(a,b){for(var c=b.length,\\nd=0;d<c;d++)if(H(a,b[d]))return!0;return!1},hb=function(a,b,c){gb(a,b,c)},ib=function(a,b){gb(a,\"gbe\",b)},jb=function(){B(function(){g.pcm&&g.pcm()})},kb=function(){B(function(){g.pca&&g.pca()})},lb=function(a,b,c,d,f,k,m,n,l,q){B(function(){g.paa&&g.paa(a,b,c,d,f,k,m,n,l,q)})},mb=function(a,b){L[a]||(L[a]=[]);L[a].push(b)},nb=function(a,b){M[a]||(M[a]=[]);M[a].push(b)},ob=function(a,b){Ya[a]=b},pb=function(a,b){N[a]||(N[a]=[]);N[a].push(b)},bb=function(a){a.preventDefault&&a.preventDefault();a.returnValue=\\n!1;a.cancelBubble=!0},qb=null,ab=function(a,b){P();if(a){rb(a,\"Opening&hellip;\");Q(a,!0);b=\"undefined\"!=typeof b?b:1E4;var c=function(){sb(a)};qb=window.setTimeout(c,b)}},tb=function(a){P();a&&(Q(a,!1),rb(a,\"\"))},sb=function(a){try{P();var b=a||document.getElementById(O);b&&(rb(b,\"This service is currently unavailable.%1$sPlease try again later.\",\"%1$s\"),Q(b,!0))}catch(c){r(c,\"sb\",\"sdhe\")}},rb=function(a,b,c){if(a&&b){var d=$a(a);if(d){if(c){d.innerHTML=\"\";b=b.split(c);c=0;for(var f;f=b[c];c++){var k=document.createElement(\"div\");\\nk.innerHTML=f;d.appendChild(k)}}else d.innerHTML=b;Q(a,!0)}}},Q=function(a,b){(b=void 0!==b?b:!0)?J(a,\"gbmsgo\"):K(a,\"gbmsgo\")},$a=function(a){for(var b=0,c;c=a.childNodes[b];b+'\n",
      "\n",
      " b'+)if(H(c,\"gbmsg\"))return c},P=function(){qb&&window.clearTimeout(qb)},ub=function(a){var b=\"inner\"+a;a=\"offset\"+a;return window[b]?window[b]:document.documentElement&&document.documentElement[a]?document.documentElement[a]:0},vb=function(){return!1},wb=function(){return!!O};p(\"so\",Wa);p(\"sos\",Va);p(\"si\",Xa);p(\"tg\",cb);\\np(\"close\",db);p(\"rdd\",eb);p(\"addLink\",hb);p(\"addExtraLink\",ib);p(\"pcm\",jb);p(\"pca\",kb);p(\"paa\",lb);p(\"ddld\",ab);p(\"ddrd\",tb);p(\"dderr\",sb);p(\"rtl\",Za);p(\"op\",wb);p(\"bh\",L);p(\"abh\",mb);p(\"dh\",M);p(\"adh\",nb);p(\"ch\",N);p(\"ach\",pb);p(\"eh\",Ya);p(\"aeh\",ob);ba=h.a(\"\")?Ta:Ua;p(\"qs\",ba);p(\"setContinueCb\",Ra);p(\"pc\",Sa);p(\"bsy\",vb);h.d=bb;h.j=ub;var xb={};v.base=xb;w.push([\"m\",{url:\"//ssl.gstatic.com/gb/js/sem_591eec649ac9b932a5d8552377d75579.js\"}]);g.sg={c:\"1\"};p(\"wg\",{rg:{}});var yb={tiw:h.c(\"15000\",0),tie:h.c(\"30000\",0)};v.wg=yb;var zb={thi:h.c(\"10000\",0),thp:h.c(\"180000\",0),tho:h.c(\"5000\",0),tet:h.b(\"0.5\",0)};v.wm=zb;if(h.a(\"1\")){var Ab=h.a(\"\");w.push([\"gc\",{auto:Ab,url:\"//ssl.gstatic.com/gb/js/abc/gci_91f30755d6a6b787dcc2a4062e6e9824.js\",libs:\"googleapis.client:plusone:gapi.iframes\"}]);var Bb={version:\"gci_91f30755d6a6b787dcc2a4062e6e9824.js\",index:\"\",lang:\"en\"};v.gc=Bb;var Cb=function(a){window.googleapis&&window.iframes?a&&a():(a&&ta(a),D(\"gc\"))};p(\"lGC\",Cb);h.a(\"1\")&&p(\"lPWF\",Cb)};window.__PVT=\"\";if(h.a(\"1\")&&h.a(\"1\")){var Db=function(a){Cb(function(){A(\"pw\",a);D(\"pw\")})};p(\"lPW\",Db);w.push([\"p'\n",
      "\n",
      " b'w\",{url:\"//ssl.gstatic.com/gb/js/abc/pwm_45f73e4df07a0e388b0fa1f3d30e7280.js\"}]);var Fb=[],Gb=function(a){Fb[0]=a},Hb=function(a,b){b=b||{};b._sn=\"pw\";t(a,b)},Ib={signed:Fb,elog:Hb,base:\"https://plusone.google.com/u/0\",loadTime:(new Date).getTime()};v.pw=Ib;var Jb=function(a,b){var c=b.split(\".\");b=function(){var m=arguments;a(function(){for(var n=g,l=0,q=c.length-1;l<q;++l)n=n[c[l]];n[c[l]].apply(n,m)})};for(var d=g,f=0,k=c.length-1;f<\\nk;++f)d=d[c[f]]=d[c[f]]||{};return d[c[f]]=b};Jb(Db,\"pw.clk\");Jb(Db,\"pw.hvr\");p(\"su\",Gb,g.pw)};var Kb=[1,2,3,4,5,6,9,10,11,13,14,28,29,30,34,35,37,38,39,40,41,42,43,48,49,500];var Lb=h.b(\"0.001\",1E-4),Mb=h.b(\"1\",1),Nb=!1,Ob=!1;if(h.a(\"1\")){var Pb=Math.random();Pb<Lb&&(Nb=!0);Pb<Mb&&(Ob=!0)}var R=null;\\nfunction Qb(a,b){var c=Lb,d=Nb;var f=a;if(!R){R={};for(var k=0;k<Kb.length;k++){var m=Kb[k];R[m]=!0}}if(f=!!R[f])c=Mb,d=Ob;if(d){d=encodeURIComponent;if(g.rp){var n=g.rp();n=\"-1\"!=n?n:\"\"}else n=\"\";f=(new Date).getTime();k=d(\"28834\");m=d(\"IiRoXf3QKNOf-gTozZ3oAw\");var l=g.bv.f,q=d(\"1\");n=d(n);c=Math.round(1/c);var E=d(\"265367620.0\"),U=\"&oggv=\"+d(\"es_plusone_gc_20190803.0_p0\"),I=d(\"com\"),V=d(\"en\"),W=\\nd(\"USA\");var y=0;h.a(\"\")&&(y|=1);h.a(\"\")&&(y|=2);h.a(\"\")&&(y|=4);a=[\"//www.google.com/gen_204?atyp=i&zx=\",f,\"&oge=\",a,\"&ogex=\",k,\"&ogev=\",m,\"&ogf=\",l,\"&ogp=\",q,\"&ogrp=\",n,\"&ogsr=\",c,\"&ogv=\",E,U,\"&ogd=\",I,\"&ogl=\",V,\"&ogc=\",W,\"&ogus=\",y];if(b){\"ogw\"in b&&(a.push(\"&ogw=\"+b.ogw),delete b.ogw);f=[];for(z in b)0!=f.length&&f.push(\",\"),f.push(Rb(z)),f.push(\".\"),f.push(Rb(b[z]));var z=f.join(\"\");\"\"!=z&&(a.push(\"&ogad=\"),a.push(d(z)))}ka(a.join(\"\"))}}\\nfunction Rb(a){\"number\"==typeof a&&(a+=\"\");return\"string\"==typeof a?a.replace(\".\",\"%2E\").replace(\",\",\"%2C\"):a}ha=Qb;p(\"il\",ha,u);var Sb={};v.il=Sb;var Tb=function(a,b,c,d,f,k,m,n,l,q){B(function(){g.paa(a,b,c,d,f,k,m,n,l,q)})},Ub=function(){B(function(){g.prm()})},Vb=function(a){B(function(){g.spn(a)})},Wb=function(a){B(function(){g.sps(a)})},Xb=function(a){B(function(){g.spp(a)})},Yb={\"27\":\"https://ssl.gstatic.com/gb/images/silhouette_24.png\",\"27\":\"https://ssl.gstatic.com/gb/images/silhouette_24.png\",\"27\":\"https://ssl.gstatic.com/gb/images/silhouette_24.png\"},Zb=function(a){return(a=Yb[a])||\"https://ssl.gstatic.com/gb/images/silhouette_24.png\"},\\n$b=function(){B(function(){g.spd()})};p(\"spn\",Vb);p(\"spp\",Xb);p(\"sps\",Wb);p(\"spd\",$b);p(\"paa\",Tb);p(\"prm\",Ub);mb(\"gbd4\",Ub);\\nif(h.a(\"\")){var ac={d:h.a(\"\"),e:\"\",sanw:h.a(\"\"),p:\"https://ssl.gstatic.com/gb/images/silhouette_96.png\",cp:\"1\",xp:h.a(\"1\"),mg:\"%1$s (delegated)\",md:\"%1$s (default)\",mh:\"220\",s:\"1\",pp:Zb,ppl:h.a(\"\"),ppa:h.a(\"\"),\\nppm:\"Google+ page\"};v.prf=ac};var S,bc,T,cc,X=0,dc=function(a,b,c){if(a.indexOf)return a.indexOf(b,c);if(Array.indexOf)return Array.indexOf(a,b,c);for(c=null==c?0:0>c?Math.max(0,a.length+c):c;c<a.length;c++)if(c in a&&a[c]===b)return c;return-1},Y=function(a,b){return-1==dc(a,X)?(r(Error(X+\"_\"+b),\"up\",\"caa\"),!1):!0},fc=function(a,b){Y([1,2],\"r\")&&(S[a]=S[a]||[],S[a].push(b),2==X&&window.setTimeout(function(){b(ec(a))},0))},gc=function(a,b,c){if(Y([1],\"nap\")&&c){for(var d=0;d<c.length;d++)bc[c[d]]=!0;g.up.spl(a,b,\"nap\",c)}},hc=\\nfunction(a,b,c){if(Y([1],\"aop\")&&c){if(T)for(var d in T)T[d]=T[d]&&-1!=dc(c,d);else for(T={},d=0;d<c.length;d++)T[c[d]]=!0;g.up.spl(a,b,\"aop\",c)}},ic=function(){try{if(X=2,!cc){cc=!0;for(var a in S)for(var b=S[a],c=0;c<b.length;c++)try{b[c](ec(a))}catch(d){r(d,\"up\",\"tp\")}}}catch(d){r(d,\"up\",\"mtp\")}},ec=function(a){if(Y([2],\"ssp\")){var b=!bc[a];T&&(b=b&&!!T[a]);return b}};cc=!1;S={};bc={};T=null;X=1;\\nvar jc=function(a){var b=!1;try{b=a.cookie&&a.cookie.match(\"PREF\")}catch(c){}return!b},kc=function(){try{return!!e.localStorage&&\"object\"==typeof e.localStorage}catch(a){return!1}},lc=function(a){return a&&a.style&&a.style.behavior&&\"undefined\"!=typeof a.load},mc=function(a,b,c,d){try{jc(document)||(d||(b=\"og-up-\"+b),kc()?e.localStorage.setItem(b,c):lc(a)&&(a.setAttribute(b,c),a.save(a.id)))}catch(f){f.code!=DOMException.QUOTA_EXCEEDED_ERR&&r(f,\"up\",\"spd\")}},nc=function(a,b,c){try{if(jc(document))return\"\";\\nc||(b=\"og-up-\"+b);if(kc())return e.localStorage.getItem(b);if(lc(a))return a.load(a.id),a.getAttribute(b)}catch(d){d.code!=DOMException.QUOTA_EXCEEDED_ERR&&r(d,\"up\",\"gpd\")}return\"\"},oc=function(a,b,c){a.addEventListener?a.addEventListener(b,c,!1):a.attachEvent&&a.attachEvent(\"on\"+b,c)},pc=function(a){for(var b=0,c;c=a[b];b++){var d=g.up;c=c in d&&d[c];if(!c)return!1}return!0},qc=function(a,b){try{if(jc(a))return-1;var c=a.cookie.match(/OGPC=([^;]*)/);if(c&&c[1]){var d=c[1].match(new RegExp(\"\\\\\\\\b\"+\\nb+\"-([0-9]+):\"));if(d&&d[1])return parseInt(d[1],10)}}catch(f){f.code!=DOMException.QUOTA_EXCEEDED_ERR&&r(f,\"up\",\"gcc\")}return-1};p(\"up\",{r:fc,nap:gc,aop:hc,tp:ic,ssp:ec,spd:mc,gpd:nc,aeh:oc,aal:pc,gcc:qc});var Z=function(a,b){a[b]=function(c){var d=arguments;g.qm(function(){a[b].apply(this,d)})}};Z(g.up,\"sl\");Z(g.up,\"si\");Z(g.up,\"spl\");Z(g.up,\"dpc\");Z(g.up,\"iic\");g.mcf(\"up\",{sp:h.b(\"0.01\",1),tld:\"com\",prid:\"1\"});function rc(){function a(){for(var l;(l=k[m++])&&\"m\"!=l[0]&&!l[1].auto;);l&&(sa(2,l[0]),l[1].url&&ra(l[1].url,l[0]),l[1].libs&&C&&C(l[1].libs));m<k.length&&setTimeout(a,0)}function b(){0<f--?setTimeout(b,0):a()}var c=h.a(\"1\"),d=h.a(\"\"),f=3,k=w,m=0,n=window.gbarOnReady;if(n)try{n()}catch(l){r(l,\"ml\",\"or\")}d?p(\"ldb\",a):c?ca(window,\"load\",b):b()}p(\"rdl\",rc);}catch(e){window.gbar&&gbar.logger&&gbar.logger.ml(e,{\"_sn\":\"cfg.init\"});}})();\\n(function(){try{var a=window.gbar;a.mcf(\"pm\",{p:\"\"});}catch(e){window.gbar&&gbar.logger&&gbar.logger.ml(e,{\"_sn\":\"cfg.init\"});}})();\\n(function(){try{var a=window.gbar;a.mcf(\"mm\",{s:\"1\"});}catch(e){window.gbar&&gbar.logger&&gbar.logger.ml(e,{\"_sn\":\"cfg.init\"});}})();\\n(function(){try{var d=window.gbar.i.i;var e=window.gbar;var f=e.i;var g=f.c(\"1\",0),h=/\\\\bgbmt\\\\b/,k=function(a){try{var b=document.getElementById(\"gb_\"+g),c=document.getElementById(\"gb_\"+a);b&&f.l(b,h.test(b.className)?\"gbm0l\":\"gbz0l\");c&&f.k(c,h.test(c.className)?\"gbm0l\":\"gbz0l\")}catch(l){d(l,\"sj\",\"ssp\")}g=a},m=e.qs,n=function(a){var b=a.href;var c=window.location.href.match(/.*?:\\\\/\\\\/[^\\\\/]*/)[0];c=new RegExp(\"^\"+c+\"/search\\\\\\\\?\");(b=c.test(b))&&!/(^|\\\\\\\\?|&)ei=/.test(a.href)&&(b=window.google)&&b.kEXPI&&(a.href+=\"&ei=\"+b.kEI)},p=function(a){m(a);\\nn(a)},q=function(){if(window.google&&window.google.sn){var a=/.*hp$/;return a.test(window.google.sn)?\"\":\"1\"}return\"-1\"};e.rp=q;e.slp=k;e.qs=p;e.qsi=n;}catch(e){window.gbar&&gbar.logger&&gbar.logger.ml(e,{\"_sn\":\"cfg.init\"});}})();\\n(function(){try{var a=this||self;var b=window.gbar;var c=b.i;var d=c.a,e=c.c,f={cty:\"USA\",cv:\"265367620\",dbg:d(\"\"),ecv:\"0\",ei:e(\"IiRoXf3QKNOf-gTozZ3oAw\"),ele:d(\"1\"),esr:e(\"0.1\"),evts:[\"mousedown\",\"touchstart\",\"touchmove\",\"wheel\",\"keydown\"],gbl:\"es_plusone_gc_20190803.0_p0\",hd:\"com\",hl:\"en\",irp:d(\"\"),pid:e(\"1\"),\\nsnid:e(\"28834\"),to:e(\"300000\"),u:e(\"\"),vf:\".66.41.\"},g=f,h=[\"bndcfg\"],k=a;h[0]in k||\"undefined\"==typeof k.execScript||k.execScript(\"var \"+h[0]);for(var l;h.length&&(l=h.shift());)h.length||void 0===g?k=k[l]&&k[l]!==Object.prototype[l]?k[l]:k[l]={}:k[l]=g;}catch(e){window.gbar&&gbar.logger&&gbar.logger.ml(e,{\"_sn\":\"cfg.init\"});}})();\\n(function(){try{window.gbar.rdl();}catch(e){window.gbar&&gbar.logger&&gbar.logger.ml(e,{\"_sn\":\"cfg.init\"});}})();\\n</script></head><body bgcolor=\"#fff\"><script nonce=\"DeyMoqrtrjJ6sIyt2LbQDQ==\">(function(){var src=\\'/images/nav_logo229.png\\';var iesg=false;document.body.onload = function(){window.n && window.n();if (document.images){new Image().src=src;}\\nif (!iesg){document.f&&document.f.q.focus();document.gbqf&&document.gbqf.q.focus();}\\n}\\n})();</script><div id=\"mngb\"> <div id=gb><script>window.gbar&&gbar.eli&&gbar.eli()</script><div id=gbw><div id=gbz><span class=gbtcb></span><ol id=gbzc class=gbtc><li class=gbt><a onclick=gbar.logger.il(1,{t:1}); class=\"gbzt gbz0l gbp1\" id=gb_1 href=\"https://www.google.com/webhp?tab=ww\"><span class=gbtb2></span><span class=gbts>Search</span></a></li><li class=gbt><a onclick=gbar.logger.il(1,{t:2}); class=gbzt id=gb_2 href=\"http://www.google.com/imghp?hl=en&tab=wi\"><span class=gbtb2></span><span class=gbts>Images</span></a></li><li class=gbt><a onclick=gbar.logger.il(1,{t:8}); class=gbzt id=gb_8 href=\"http://maps.google.com/maps?hl=en&tab=wl\"><span class=gbtb2></span><span class=gbts>Maps</span></a></li><li class=gbt><a onclick=gbar.logger.il(1,{t:78}); class=gbzt id=gb_78 href=\"https://play.google.com/?hl=en&tab=w8\"><span class=gbtb2></span><span class=gbts>Play</span></a></li><li class=gbt><a onclick=gbar.logger.il(1,{t:36}); class=gbzt id=gb_36 href=\"http://www.youtube.com/?gl=US&tab=w1\"><span class=gbtb2></span><span class=gbts>YouTube</span'\n",
      "\n",
      " b'></a></li><li class=gbt><a onclick=gbar.logger.il(1,{t:5}); class=gbzt id=gb_5 href=\"http://news.google.com/nwshp?hl=en&tab=wn\"><span class=gbtb2></span><span class=gbts>News</span></a></li><li class=gbt><a onclick=gbar.logger.il(1,{t:23}); class=gbzt id=gb_23 href=\"https://mail.google.com/mail/?tab=wm\"><span class=gbtb2></span><span class=gbts>Gmail</span></a></li><li class=gbt><a onclick=gbar.logger.il(1,{t:49}); class=gbzt id=gb_49 href=\"https://drive.google.com/?tab=wo\"><span class=gbtb2></span><span class=gbts>Drive</span></a></li><li class=gbt><a class=gbgt id=gbztm href=\"https://www.google.com/intl/en/about/products?tab=wh\" onclick=\"gbar.tg(event,this)\" aria-haspopup=true aria-owns=gbd><span class=gbtb2></span><span id=gbztms class=\"gbts gbtsa\"><span id=gbztms1>More</span><span class=gbma></span></span></a><div class=gbm id=gbd aria-owner=gbztm><div id=gbmmb class=\"gbmc gbsb gbsbis\"><ol id=gbmm class=\"gbmcc gbsbic\"><li class=gbmtc><a onclick=gbar.logger.il(1,{t:24}); class=gbmt id=gb_24 href=\"https://www.google.com/calendar?tab=wc\">Calendar</a></li><li class=gbmtc><a onclick=gbar.logger.il(1,{t:51}); class=gbmt id=gb_51 href=\"http://translate.google.com/?hl=en&tab=wT\">Translate</a></li><li class=gbmtc><a onclick=gbar.logger.il(1,{t:17}); class=gbmt id=gb_17 href=\"http://www.google.com/mobile/?hl=en&tab=wD\">Mobile</a></li><li class=gbmtc><a onclick=gbar.logger.il(1,{t:10}); class=gbmt id=gb_10 href=\"https://books.google.com/bkshp?hl=en&tab=wp\">Books</a></li><li class=gbmtc><a onclick=gbar.logger.il(1,{t:6}); class=gbmt id=gb_6 href=\"https://www.google.com/shopping?hl=en&source=og&tab=wf\">Shopping</a></li><li class=gbmtc><a onclick=gbar.logger.il(1,{t:30}); class=gbmt id=gb_30 href=\"http://www.blogger.com/?tab=wj\">Blogger</a></li><li class=gbmtc><a onclick=gbar.logger.il(1,{t:27}); class=gbmt id=gb_27 href=\"http://www.google.com/finance?tab=we\">Finance</a></li><li class=gbmtc><a onclick=gbar.logger.il(1,{t:31}); class=gbmt id=gb_31 href=\"https://photos.google.com/?tab=wq&pageId=none\">Photos</a></li><li class=gbmtc><a onclick=gbar.logger.il(1,{t:12}); class=gbmt id=gb_12 href=\"http://video.google.com/?hl=en&tab=wv\">Videos</a></li><li class=gbmtc><a onclick=gbar.logger.il(1,{t:25}); class=gbmt id=gb_25 href=\"https://docs.google.com/document/?usp=docs_alc\">Docs</a></li><li class=gbmtc><div class=\"gbmt gbmh\"></div></li><li class=gbmtc><a onclick=gbar.logger.il(1,{t:66}); href=\"https://www.google.com/intl/en/about/products?tab=wh\" class=gbmt>Even more &raquo;</a></li></ol><div class=gbsbt></div><div class=gbsbb></div></div></div></li></ol></div><div id=gbg><h2 class=gbxx>Account Options</h2><span class=gbtcb></span><ol class=gbtc><li class=gbt><a target=_top href=\"https://accounts.google.com/ServiceLogin?hl=en&passive=true&continue=http://www.google.com/\" onclick=\"gbar.logger.il(9,{l:\\'i\\'})\" id=gb_70 class=gbgt><span class=gbtb2></span><span id=gbgs4 class=gbts><span id=gbi4s1>Sign in</span></span></a></li><li class=\"gbt gbtb\"><span class=gbts></span></li><li class=gbt><a class=gbgt id=gbg5 href=\"http://www.google.com/preferences?hl=en\" title=\"Options\" onclick=\"gbar.tg(event,this)\" aria-haspopup=true aria-owns=gbd5><span class=gbtb2></span><span id=gbgs5 class=gbts><span id=gbi5></span></span></a><div class=gbm id=gbd5 aria-owner=gbg5><div class=gbmc><ol id=gbom class=gbmcc><li class=\"gbkc gbmtc\"><a  class=gbmt href=\"/preferences?hl=en\">Search settings</a></li><li class=gbmtc><div class=\"gbmt gbmh\"></div></li><li class=\"gbkp gbmtc\"><a class=gbmt href=\"http://www.google.com/history/optout?hl=en\">Web History</a></li></ol></div></div></li></ol></div></div><div id=gbx3></div><div id=gbx4></div><script>window.gbar&&gbar.elp&&gbar.elp()</script></div> </div><center><br clear=\"all\" id=\"lgpd\"><div id=\"lga\"><img alt=\"Google\" height=\"92\" src=\"/images/branding/googlelogo/1x/googlelogo_white_background_color_272x92dp.png\" style=\"padding:28px 0 14px\" width=\"272\" id=\"hplogo\"><br><br></div><form action=\"/search\" name=\"f\"><table cellpadding=\"0\" cellspacing=\"0\"><tr valign=\"top\"><td width=\"25%\">&nbsp;</td><td align=\"center\" nowrap=\"\"><input name=\"ie\" value=\"ISO-8859-1\" type=\"hidden\"><input value=\"en\" name=\"hl\" type=\"hidden\"><input name=\"source\" type=\"hidden\" value=\"hp\"><input name=\"biw\" type=\"hidden\"><input name=\"bih\" type=\"hidde'\n"
     ]
    },
    {
     "name": "stdout",
     "output_type": "stream",
     "text": [
      "\n",
      " b'n\"><div class=\"ds\" style=\"height:32px;margin:4px 0\"><input style=\"color:#000;margin:0;padding:5px 8px 0 6px;vertical-align:top\" autocomplete=\"off\" class=\"lst\" value=\"\" title=\"Google Search\" maxlength=\"2048\" name=\"q\" size=\"57\"></div><br style=\"line-height:0\"><span class=\"ds\"><span class=\"lsbb\"><input class=\"lsb\" value=\"Google Search\" name=\"btnG\" type=\"submit\"></span></span><span class=\"ds\"><span class=\"lsbb\"><input class=\"lsb\" value=\"I\\'m Feeling Lucky\" name=\"btnI\" onclick=\"/*gws_metadata_pragma__js_inline_handler*/ if(this.form.q.value){ this.checked=1; if (this.form.iflsig)this.form.iflsig.disabled=false; } else top.location=\\'/doodles/\\'\" type=\"submit\"></span></span></td><td class=\"fl sblc\" align=\"left\" nowrap=\"\" width=\"25%\"><a href=\"/advanced_search?hl=en&amp;authuser=0\">Advanced search</a><a href=\"/language_tools?hl=en&amp;authuser=0\">Language tools</a></td></tr></table><input id=\"gbv\" name=\"gbv\" type=\"hidden\" value=\"1\"><script nonce=\"DeyMoqrtrjJ6sIyt2LbQDQ==\">(function(){var a,b=\"1\";if(document&&document.getElementById)if(\"undefined\"!=typeof XMLHttpRequest)b=\"2\";else if(\"undefined\"!=typeof ActiveXObject){var c,d,e=[\"MSXML2.XMLHTTP.6.0\",\"MSXML2.XMLHTTP.3.0\",\"MSXML2.XMLHTTP\",\"Microsoft.XMLHTTP\"];for(c=0;d=e[c++];)try{new ActiveXObject(d),b=\"2\"}catch(h){}}a=b;if(\"2\"==a&&-1==location.search.indexOf(\"&gbv=2\")){var f=google.gbvu,g=document.getElementById(\"gbv\");g&&(g.value=a);f&&window.setTimeout(function(){loc'\n",
      "\n",
      " b'ation.href=f},0)};}).call(this);</script></form><div id=\"gac_scont\"></div><div style=\"font-size:83%;min-height:3.5em\"><br></div><span id=\"footer\"><div style=\"font-size:10pt\"><div style=\"margin:19px auto;text-align:center\" id=\"fll\"><a href=\"/intl/en/ads/\">Advertising\\xa0Programs</a><a href=\"/services/\">Business Solutions</a><a href=\"/intl/en/about.html\">About Google</a></div></div><p style=\"color:#767676;font-size:8pt\">&copy; 2019 - <a href=\"/intl/en/policies/privacy/\">Privacy</a> - <a href=\"/intl/en/policies/terms/\">Terms</a></p></span></center><script nonce=\"DeyMoqrtrjJ6sIyt2LbQDQ==\">(function(){window.google.cdo={height:0,width:0};(function(){var a=window.innerWidth,b=window.innerHeight;if(!a||!b){var c=window.document,d=\"CSS1Compat\"==c.compatMode?c.documentElement:c.body;a=d.clientWidth;b=d.clientHeight}a&&b&&(a!=google.cdo.width||b!=google.cdo.height)&&google.log(\"\",\"\",\"/client_204?&atyp=i&biw=\"+a+\"&bih=\"+b+\"&ei=\"+google.kEI);}).call(this);})();(function(){var u=\\'/xjs/_/js/k\\\\x3dxjs.hp.en_US.mE4Zbda1EXc.O/m\\\\x3dsb_he,d/am\\\\x3dHhbUBA/d\\\\x3d1/rs\\\\x3dACT90oGElYPPv5sm1TaotqwEi7diAb0b2g\\';setTimeout(function(){var a=document.createElement(\"script\");a.src=u;google.timers&&google.timers.load&&google.tick&&google.tick(\"load\",\"xjsls\");document.body.appendChild(a)},0);})();(function(){window.google.xjsu=\\'/xjs/_/js/k\\\\x3dxjs.hp.en_US.mE4Zbda1EXc.O/m\\\\x3dsb_he,d/am\\\\x3dHhbUBA/d\\\\x3d1/rs\\\\x3dACT90oGElYPPv5sm1TaotqwEi7diAb0b2g\\';})'\n",
      "\n",
      " b\"();function _DumpException(e){throw e;}\\nfunction _F_installCss(c){}\\n(function(){google.spjs=false;google.snet=true;google.em=[];google.emw=false;})();google.sm=1;(function(){var pmc='{\\\\x22JnTczA\\\\x22:{},\\\\x22Qnk92g\\\\x22:{},\\\\x22RWGcrA\\\\x22:{},\\\\x22U5B21g\\\\x22:{},\\\\x22YFCs/g\\\\x22:{},\\\\x22YQeDTA\\\\x22:{},\\\\x22ZI/YVQ\\\\x22:{},\\\\x22d\\\\x22:{},\\\\x22mVopag\\\\x22:{},\\\\x22sb_he\\\\x22:{\\\\x22agen\\\\x22:true,\\\\x22cgen\\\\x22:true,\\\\x22client\\\\x22:\\\\x22heirloom-hp\\\\x22,\\\\x22dh\\\\x22:true,\\\\x22dhqt\\\\x22:true,\\\\x22ds\\\\x22:\\\\x22\\\\x22,\\\\x22ffql\\\\x22:\\\\x22en\\\\x22,\\\\x22fl\\\\x22:true,\\\\x22host\\\\x22:\\\\x22google.com\\\\x22,\\\\x22isbh\\\\x22:28,\\\\x22jsonp\\\\x22:true,\\\\x22msgs\\\\x22:{\\\\x22cibl\\\\x22:\\\\x22Clear Search\\\\x22,\\\\x22dym\\\\x22:\\\\x22Did you mean:\\\\x22,\\\\x22lcky\\\\x22:\\\\x22I\\\\\\\\u0026#39;m Feeling Lucky\\\\x22,\\\\x22lml\\\\x22:\\\\x22Learn more\\\\x22,\\\\x22oskt\\\\x22:\\\\x22Input tools\\\\x22,\\\\x22psrc\\\\x22:\\\\x22This search was removed from your \\\\\\\\u003Ca href\\\\x3d\\\\\\\\\\\\x22/history\\\\\\\\\\\\x22\\\\\\\\u003EWeb History\\\\\\\\u003C/a\\\\\\\\u003E\\\\x22,\\\\x22psrl\\\\x22:\\\\x22Remove\\\\x22,\\\\x22sbit\\\\x22:\\\\x22Search by image\\\\x22,\\\\x22srch\\\\x22:\\\\x22Google Search\\\\x22},\\\\x22ovr\\\\x22:{},\\\\x22pq\\\\x22:\\\\x22\\\\x22,\\\\x22refpd\\\\x22:true,\\\\x22rfs\\\\x22:[],\\\\x22sbpl\\\\x22:24,\\\\x22sbpr\\\\x22:24,\\\\x22scd\\\\x22:10,\\\\x22sce\\\\x22:5,\\\\x22stok\\\\x22:\\\\x22VUUCIZa62zb1lVRXzoi_7LYoXZA\\\\x22,\\\\x22uhde\\\\x22:false}}';google.pmc=JSON.parse(pmc);})();</script>        </body></html>\\r\\n0\\r\\n\\r\\n\"\n"
     ]
    }
   ],
   "source": [
    "# An example script to connect to Google using socket programming in Python \n",
    "\n",
    "import socket # for socket \n",
    "import sys \n",
    "\n",
    "try: \n",
    "    s = socket.socket(socket.AF_INET, socket.SOCK_STREAM) \n",
    "    print (\"Socket successfully created\")\n",
    "except socket.error as err: \n",
    "    print (\"socket creation failed with error %s\") %(err) \n",
    "\n",
    "# default port for socket \n",
    "port = 80\n",
    "\n",
    "try: \n",
    "    hostname = \"www.google.com\"\n",
    "    host_ip = socket.gethostbyname(hostname) \n",
    "except socket.gaierror: \n",
    "\n",
    "    # this means could not resolve the host \n",
    "    print (\"there was an error resolving the host\")\n",
    "    sys.exit() \n",
    "\n",
    "# connecting to the server \n",
    "s.connect((host_ip, port)) \n",
    "\n",
    "print (\"the socket has successfully connected to\", hostname,  \"on address\", host_ip, \", port\", port)\n",
    "\n",
    "#  now get a web page of HTML data.  \n",
    "#  The response will print as raw ASCII HTML text; it will not be rendered as done in a web browser.\n",
    "#  the \"b\" character in front of the string means \"byte data\", it will not be convered to a python string.\n",
    "\n",
    "request = b\"GET / HTTP/1.1\\r\\nHost: www.google.com\\r\\n\\r\\n\"\n",
    "s.send(request)\n",
    "result = s.recv(10000)\n",
    "while (len(result) > 0):\n",
    "    print(\"\\n\", result)\n",
    "    result = s.recv(10000) \n",
    "s.close()"
   ]
  },
  {
   "cell_type": "markdown",
   "metadata": {},
   "source": [
    "#### 1D) Build and run a very simple server application\n",
    "\n",
    "In this section you will build a server application that does nothing more than send a greeting message to a client.\n",
    "\n",
    "You will notice the code below is similar to, but a bit more complicated, than the code for a client application.  A server has a `bind()` method which binds it to a specific ip and port so that it can listen to incoming requests on that ip and port.  A server has a `listen()` method which puts the server into listen mode. This allows the server to listen to incoming connections. Lastly, a server has an `accept()` and `close()` method. The accept method initiates a connection with the client and the close method closes the connection with the client.  We will go into more detail on these API calls in section 2 of this lab.  For now, don't worry about understanding everything, just get the general idea.\n",
    "\n",
    "Here is the program flow:\n",
    "\n",
    "* First of all we import socket which is necessary.\n",
    "* Then we make a socket object and reserve a port on our host system.\n",
    "* After that we `bind` our server to the specified port. Passing an empty string means that the server can listen to incoming connections from other computers as well. If we would have passed 127.0.0.1 then it would have listened to only those calls made within the local computer.\n",
    "* After that we put the server into listen mode. The parameter \"5\" here means that 5 connections are kept waiting if the server is busy and if a 6th socket trys to connect then the connection is refused.\n",
    "* At last we make a while loop and start to accept all incoming connections and close those connections after a thank you message to all connected sockets.\n",
    "\n",
    "Some special notes:\n",
    "\n",
    "* This program runs forever.  You may have to use the **`kernel`** menu item in jupyter to **restart and clear output** to kill this program.\n",
    "\n",
    "* If you get an error that states `this address already in use`, either wait for the old socket to timeout (several minutes) or change the port number.\n",
    "\n",
    "Now execute the code block below and go to the following section of text for your next set of instructions."
   ]
  },
  {
   "cell_type": "code",
   "execution_count": null,
   "metadata": {},
   "outputs": [
    {
     "name": "stdout",
     "output_type": "stream",
     "text": [
      "Socket successfully created\n",
      "socket bound to 12345 on host IP address\n",
      "socket is listening\n"
     ]
    }
   ],
   "source": [
    "# a very simple web server that simply greets the client and disconnects\n",
    "\n",
    "# first of all import the socket library \n",
    "import socket \n",
    "\n",
    "# next create a socket object \n",
    "s = socket.socket()\t\n",
    "print (\"Socket successfully created\")\n",
    "\n",
    "# reserve a port on your computer in our \n",
    "# case it is 12345 but it can be anything >= 1024 and <=65535\n",
    "port = 12345\n",
    "\n",
    "# Next bind to the port \n",
    "# we have not typed any ip in the ip field \n",
    "# instead we have inputted an empty string \n",
    "# this makes the server listen to requests \n",
    "# coming from other computers on the network \n",
    "s.bind(('', port)) \n",
    "print (\"socket bound to\", port, \"on host IP address\")\n",
    "\n",
    "# put the socket into listening mode \n",
    "s.listen(5)\n",
    "print (\"socket is listening\")\n",
    "\n",
    "# a forever loop until we interrupt it or \n",
    "# an error occurs \n",
    "\n",
    "while True: \n",
    "\n",
    "    # Establish connection with client. \n",
    "    c, addr = s.accept() \n",
    "    print (\"Got connection from\", addr) \n",
    "\n",
    "    # send a thank you message to the client. \n",
    "    c.send(b'\\nYou are such a nice client.\\nThank you for connecting, however I am going to disconnect now!  Bye!\\n\\n') \n",
    "\n",
    "    # Close the connection with the client \n",
    "    c.close() \n",
    "    \n",
    "s.close()\n"
   ]
  },
  {
   "cell_type": "markdown",
   "metadata": {},
   "source": [
    "After executing the code block above, you should see output showing that the server is running and listening on port 12345.  Now let's communicate with your mini-server!\n",
    "\n",
    "Use a separate linux terminal window for this next step. Jupyter doesn't let you run telnet from within a jupyter cell. \n",
    "\n",
    "Make sure you have telnet installed on your laptop.  You may have to manually install it; for example, it does not come in the default MACOS operating system.  Once you determine it is available go to your terminal window and execute the following command:\n",
    "\n",
    "  **`telnet localhost 12345`**  \n",
    "   \n",
    "   or \n",
    "   \n",
    "   **`telnet 127.0.0.1 12345`**   \n",
    "   \n",
    "   (127.0.0.1 is the IP loopback address on your host machine, also known as \"`localhost`\".\n",
    "   \n",
    "Repeat the telnet command several times.  You should get the server's message text each time you execute the command.  Notice that each time you connect to the server the output block in the code cell above adds an output line stating that a connection has been made.  Each connection is from some random port number chosen by the telnet command.\n",
    "\n",
    "Now you have to kill the server program.  Use the jupyter menu bar, select **`kernel`** and then select **`restart & clear all output`**.  Give it a minute or so to shut down and restart.  You will know you are ready to continue when the output messages from python cells are cleared out."
   ]
  },
  {
   "cell_type": "markdown",
   "metadata": {},
   "source": [
    "--- \n",
    "\n",
    "### Part 2:  A deeper look --  The Python Socket API\n",
    "\n",
    "\n",
    "\n",
    "#### Socket API Overview\n",
    "Python’s socket module provides an interface to the Berkeley sockets API. This is the module that we’ll use and discuss in this tutorial.\n",
    "\n",
    "The primary socket API functions and methods in this module are:\n",
    "\n",
    "```\n",
    "* socket()\n",
    "* bind()\n",
    "* listen()\n",
    "* accept()\n",
    "* connect()\n",
    "* connect_ex()\n",
    "* send()\n",
    "* sendall()\n",
    "* recv()\n",
    "* gethostbyname()\n",
    "* close()\n",
    "```\n",
    "\n",
    "Python provides a convenient and consistent API that maps directly to these system calls, their C counterparts. We’ll look at how these are used together in the next section.\n",
    "\n",
    "As part of its standard library, Python also has classes that make using these low-level socket functions easier. Although it’s not covered in this tutorial, see the socketserver module, a framework for network servers. There are also many modules available that implement higher-level Internet protocols like HTTP and SMTP. For an overview, see Internet Protocols and Support.\n",
    "\n",
    "Using the diagram below, let’s look at the sequence of socket API calls and data flow for TCP:\n",
    "\n",
    "\n",
    "#### TCP Sockets\n",
    "\n",
    "As you’ll see shortly, we’ll create a socket object using socket.socket() and specify the socket type as socket.SOCK_STREAM. When you do that, the default protocol that’s used is the Transmission Control Protocol (TCP). This is a good default and probably what you want.\n",
    "\n",
    "<img src=\"http://www.cs.colostate.edu/~cs457/images/jupyter/socketToSocket.jpg\" width=\"500px\" alt=\"socket to socket\" />\n",
    "\n",
    "Why should you use TCP? The Transmission Control Protocol (TCP):\n",
    "\n",
    "* Is reliable: packets dropped in the network are detected and retransmitted by the sender.\n",
    "* Has in-order data delivery: data is read by your application in the order it was written by the sender.\n",
    "\n",
    "In contrast, User Datagram Protocol (UDP) sockets created with socket.SOCK_DGRAM aren’t reliable, and data read by the receiver can be out-of-order from the sender’s writes.\n",
    "\n",
    "Why is this important? Networks are a best-effort delivery system. There’s no guarantee that your data will reach its destination or that you’ll receive what’s been sent to you.\n",
    "\n",
    "Network devices (for example, routers and switches), have finite bandwidth available and their own inherent system limitations. They have CPUs, memory, buses, and interface packet buffers, just like our clients and servers. TCP relieves you from having to worry about packet loss, data arriving out-of-order, and many other things that invariably happen when you’re communicating across a network.\n",
    "\n",
    "In the diagram below, let’s look at the sequence of socket API calls and data flow for TCP:\n",
    "\n",
    "<img src=\"http://www.cs.colostate.edu/~cs457/images/jupyter/sockets-tcp-flow.jpg\" width=\"500px\" alt=\"TCP socket flow\" />\n",
    "\n",
    "The left-hand column represents the server. On the right-hand side is the client.\n",
    "\n",
    "Starting in the top left-hand column, note the API calls the server makes to setup a “listening” socket:\n",
    "\n",
    "```\n",
    "* socket()\n",
    "* bind()\n",
    "* listen()\n",
    "* accept()\n",
    "```\n",
    "\n",
    "A listening socket does just what it sounds like. It listens for connections from clients. When a client connects, the server calls accept() to accept, or complete, the connection.\n",
    "\n",
    "The client calls connect() to establish a connection to the server and initiate the three-way handshake. The handshake step is important since it ensures that each side of the connection is reachable in the network, in other words that the client can reach the server and vice-versa. It may be that only one host, client or server, can reach the other.\n",
    "\n",
    "In the middle is the round-trip section, where data is exchanged between the client and server using calls to send() and recv().\n",
    "\n",
    "At the bottom, the client and server close() their respective sockets.\n",
    "\n",
    "#### 2A) Create the Echo Server\n",
    "\n",
    "Now that you’ve seen an overview of the socket API and how the client and server communicate, let’s create our first client and server. We’ll begin with a simple implementation. The server will simply echo whatever it receives back to the client.\n",
    "\n",
    "Here is the code for the server, `echo-server.py`.  You will notice it uses a slightly more sophisticated python structures than the previous examples.  We'll explain the code in the next section.\n",
    "\n",
    "For now, just SHIFT-RETURN in the cell below to write the file to your current working directory where this jupyter notebook is located.  You will run the server soon after you examine the client program.\n"
   ]
  },
  {
   "cell_type": "code",
   "execution_count": null,
   "metadata": {
    "collapsed": true
   },
   "outputs": [],
   "source": [
    "%%writefile cs457_echoServer.py\n",
    "\n",
    "# TCP echo server; performs one echo and then closes and halts\n",
    "\n",
    "import socket\n",
    "\n",
    "HOST = '127.0.0.1'  # Standard loopback interface address (localhost)\n",
    "PORT = 65432        # Port to listen on (non-privileged ports are > 1023)\n",
    "\n",
    "#use \"with\" so we don't have to explicitly close the socket\n",
    "with socket.socket(socket.AF_INET, socket.SOCK_STREAM) as s:  \n",
    "    s.bind((HOST, PORT))\n",
    "    s.listen()\n",
    "    conn, addr = s.accept()\n",
    "    with conn:\n",
    "        print('Connected by', addr)\n",
    "        while True:\n",
    "            data = conn.recv(1024)\n",
    "            if not data:\n",
    "                break\n",
    "            conn.sendall(data)"
   ]
  },
  {
   "cell_type": "markdown",
   "metadata": {},
   "source": [
    "Let’s walk through each API call and see what’s happening.\n",
    "\n",
    "* 'socket.socket()' creates a socket object that supports the context manager type, so you can use it in a `with` statement. There’s no need to call s.close() because the `with` statement will close the connection automatically upon its exit.\n",
    "\n",
    "* 'bind()' is used to associate the socket with a specific network interface and port number.  The values passed to bind() depend on the address family of the socket. In this example, we’re using socket.AF_INET (IPv4). So it expects a 2-tuple: (host, port).  host can be a hostname, IP address, or empty string. If an IP address is used, host should be an IPv4-formatted address string. The IP address 127.0.0.1 is the standard IPv4 address for the loopback interface, so only processes on the host will be able to connect to the server. If you pass an empty string, the server will accept connections on all available IPv4 interfaces.\n",
    "\n",
    "* 'listen()' enables a server to accept() connections. It makes it a “listening” socket.  `listen()` has a backlog parameter. It specifies the number of unaccepted connections that the system will allow before refusing new connections. Starting in Python 3.5, it’s optional. If not specified, a default backlog value is chosen.  If your server receives a lot of connection requests simultaneously, increasing the backlog value may help by setting the maximum length of the queue for pending connections. The maximum value is system dependent. \n",
    "\n",
    "* `accept()` blocks and waits for an incoming connection. When a client connects, it returns a new socket object representing the connection and a tuple holding the address of the client. The tuple will contain (host, port) for IPv4 connections or (host, port, flowinfo, scopeid) for IPv6.   **One thing that’s imperative to understand is that we now have a new socket object from accept().** This is important since the `conn` socket is the socket that you’ll use to communicate with the client. It is distinct from the *listening socket* that the server is using to accept new connections.\n",
    "\n",
    "* After getting the client socket object conn from `accept()`, an infinite `while` loop is used to loop over blocking calls to `conn.recv()`. This reads whatever data the client sends and echoes it back using `conn.sendall()`.  If `conn.recv()` returns an empty bytes object, b'', then the client closed the connection and the loop is terminated. The `with` statement is used with `conn` to automatically close the socket at the end of the block."
   ]
  },
  {
   "cell_type": "markdown",
   "metadata": {},
   "source": [
    "#### 2B) Create the Echo Client \n",
    "\n",
    "This echo client code follows the logic illustrated on the right hand side of the client-server block diagram pictured earlier in this lab.\n",
    "\n",
    "In comparison to the server, the client is pretty simple. It creates a socket object, connects to the server and calls s.sendall() to send its message.  Lastly, the code calls s.recv() to read the server’s reply and then prints it.\n",
    "\n",
    "Note that the string in the `sendall` is modified with a \"b\" character.  This converts the string into a byte stream. \n",
    " \n",
    "Edit the code below to include your name in the `sendall` string.  Then execute the cell (SHIFT-RETURN)  to write the file to your current working directory where this jupyter notebook is located.   We will execute the code later in a seperate step."
   ]
  },
  {
   "cell_type": "code",
   "execution_count": null,
   "metadata": {
    "collapsed": true
   },
   "outputs": [],
   "source": [
    "%%writefile cs457_echoClient.py\n",
    "\n",
    "# TCP echo client\n",
    "\n",
    "import socket\n",
    "\n",
    "HOST = '127.0.0.1'  # The server's hostname or IP address\n",
    "PORT = 65432        # The port used by the server\n",
    "\n",
    "with socket.socket(socket.AF_INET, socket.SOCK_STREAM) as s:\n",
    "    s.connect((HOST, PORT))\n",
    "    s.sendall(b'Hello, world')  # modify this to say hello to your name\n",
    "    data = s.recv(1024)\n",
    "    \n",
    "print('Received', repr(data))"
   ]
  },
  {
   "cell_type": "markdown",
   "metadata": {},
   "source": [
    "#### 2C) Start the server and view the socket state\n",
    "\n",
    "OK, let's run the server by executing the cell below (SHIFT-RETURN).\n",
    "\n",
    "When you run the server, it will appear that the jupyter notebook is hung (the `In [*]:` on the left side of the cell doesn't convert into a number indicating the cell has completed execution.)  Don't panic!  The program is simply blocked waiting for input.  "
   ]
  },
  {
   "cell_type": "code",
   "execution_count": null,
   "metadata": {
    "collapsed": true
   },
   "outputs": [],
   "source": [
    "! python cs457_echoServer.py"
   ]
  },
  {
   "cell_type": "markdown",
   "metadata": {},
   "source": [
    "To see the current state of sockets on your host, you can use the `netstat` command. It’s available by default on macOS, Linux, and Windows.\n",
    "\n",
    "Here’s some sample netstat output from macOS after starting the server:\n",
    "\n",
    "```\n",
    "$ netstat -an | grep 65432\n",
    "\n",
    "Active Internet connections (including servers)\n",
    "Proto Recv-Q Send-Q  Local Address          Foreign Address        (state)  \n",
    "tcp4       0      0  127.0.0.1.65432        *.*                    LISTEN\n",
    "```\n",
    "\n",
    "Start a terminal window and execute the `netstat` command as illustrated above.  You should receive similar output.\n",
    "\n",
    "We now want to run the client.  Unfortunately, we can't easily execute two separate processes within a single jupyter notebook.  Therefore we will run the client in the separate terminal window you just created.\n",
    "\n",
    "Within the terminal window, execute the shell command: `python cs457_echoClient.py`. \n",
    "\n",
    "You should see the output from the client in the terminal window.  You should also go back to the cell that executed the server.  You will notice that it has stopped, and that it has also printed the IP address and port of the connecting client.  Note that the port number is randomly chosen by the client.\n",
    "\n"
   ]
  },
  {
   "cell_type": "markdown",
   "metadata": {},
   "source": [
    "#### 2D)  Running the client/server over a real network\n",
    "\n",
    "So far you have only run the client and server programs on `localhost` (127.0.0.1).  Now let's run the program across a real network!  \n",
    "\n",
    "**Step 1:**  Modify the server to listen on IP address 0.0.0.0 (which is a special address that indicates \"any available address\").  Execute the cell below to save this slightly modified file:  "
   ]
  },
  {
   "cell_type": "code",
   "execution_count": null,
   "metadata": {},
   "outputs": [],
   "source": [
    "%%writefile cs457_echoServer.py\n",
    "\n",
    "# TCP echo server; performs one echo and then closes and halts\n",
    "\n",
    "import socket\n",
    "\n",
    "HOST = '0.0.0.0'    # Listen on available IP address\n",
    "PORT = 65432        # Port to listen on (non-privileged ports are > 1023)\n",
    "\n",
    "#use \"with\" so we don't have to explicitly close the socket\n",
    "with socket.socket(socket.AF_INET, socket.SOCK_STREAM) as s:  \n",
    "    s.bind((HOST, PORT))\n",
    "    s.listen()\n",
    "    conn, addr = s.accept()\n",
    "    with conn:\n",
    "        print('Connected by', addr)\n",
    "        while True:\n",
    "            data = conn.recv(1024)\n",
    "            if not data:\n",
    "                break\n",
    "            conn.sendall(data)"
   ]
  },
  {
   "cell_type": "markdown",
   "metadata": {},
   "source": [
    "**Step 2:** Next, you will need to get the IP address where the server code is running.  \n",
    "\n",
    "Execute the `ifconfig` command in the following cell and **note the IP address**.  It will typically be the eth0 field (en0 in Apple MacBooks).  \n",
    "\n",
    "> If the cell outputs \"command not found\", edit the cell to execute `/usr/sbin/ifconfig`.\n",
    "> Also note:  Windows machines don't have ifconfig.  Use ipconfig instead."
   ]
  },
  {
   "cell_type": "code",
   "execution_count": null,
   "metadata": {},
   "outputs": [],
   "source": [
    "! ifconfig"
   ]
  },
  {
   "cell_type": "markdown",
   "metadata": {},
   "source": [
    "**Step 3:** Now edit the client code below to use the IP address you just found.  Make sure you also add your name to the echo string. \n",
    "\n",
    "Execute the cell to save the program.  "
   ]
  },
  {
   "cell_type": "code",
   "execution_count": null,
   "metadata": {},
   "outputs": [],
   "source": [
    "%%writefile cs457_echoClient.py\n",
    "\n",
    "# TCP echo client\n",
    "\n",
    "import socket\n",
    "\n",
    "HOST = '10.0.2.15'    # MODIFY THIS LINE TO USE THE SERVER'S IP ADDRESS!!!!\n",
    "PORT = 65432        # The port used by the server\n",
    "\n",
    "with socket.socket(socket.AF_INET, socket.SOCK_STREAM) as s:\n",
    "    s.connect((HOST, PORT))\n",
    "    s.sendall(b'Hello, Jared')  # modify this to say hello to your name\n",
    "    data = s.recv(1024)\n",
    "    \n",
    "print('Received', repr(data))"
   ]
  },
  {
   "cell_type": "markdown",
   "metadata": {},
   "source": [
    "**Step 4:**  Start the server by executing the cell below."
   ]
  },
  {
   "cell_type": "code",
   "execution_count": null,
   "metadata": {},
   "outputs": [],
   "source": [
    "! python cs457_echoServer.py"
   ]
  },
  {
   "cell_type": "markdown",
   "metadata": {},
   "source": [
    "** Step 5:** Final Step.  You need a copy of the echo client on a different computer.  Login to a random linux lab machine.  Use your favorite editor and copy and paste the client code into a file name `remoteEchoClient.py`.  \n",
    "\n",
    "Now execute this client by running the shell command: `python3 remoteEchoClient.py`.  **Note the use of python version 3!!!  The lab machines default to version 2 which won't work due to the with statement**.\n",
    "\n",
    "\n",
    "#### What to turn in\n",
    "\n",
    "After successfully running the echo client, copy and paste the terminal output showing the command and its output (which should contain your name) to a file, then submit this to Canvas."
   ]
  }
 ],
 "metadata": {
  "kernelspec": {
   "display_name": "Python 3",
   "language": "python",
   "name": "python3"
  },
  "language_info": {
   "codemirror_mode": {
    "name": "ipython",
    "version": 3
   },
   "file_extension": ".py",
   "mimetype": "text/x-python",
   "name": "python",
   "nbconvert_exporter": "python",
   "pygments_lexer": "ipython3",
   "version": "3.7.3"
  }
 },
 "nbformat": 4,
 "nbformat_minor": 2
}
